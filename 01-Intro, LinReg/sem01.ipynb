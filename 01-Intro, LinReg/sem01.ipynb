{
 "cells": [
  {
   "cell_type": "markdown",
   "id": "798e8658-a6f1-457f-8230-be6ffb86d538",
   "metadata": {},
   "source": [
    "# Линейная регрессия"
   ]
  },
  {
   "cell_type": "markdown",
   "id": "9ac08ac5-b52e-405a-bd19-96c9f8432e45",
   "metadata": {},
   "source": [
    "# Задание 1\n",
    "\n",
    "Считайте файл weights_heights.csv"
   ]
  },
  {
   "cell_type": "code",
   "execution_count": 1,
   "id": "79dbec6e-0e1f-46f4-9afe-ce9d63812961",
   "metadata": {},
   "outputs": [],
   "source": [
    "import pandas as pd\n",
    "\n",
    "df = pd.read_csv(\"weights_heights.csv\")"
   ]
  },
  {
   "cell_type": "markdown",
   "id": "f2efb2d7-e2ef-44c5-b2e5-28dd98ba318e",
   "metadata": {},
   "source": [
    "Выведите первые 10 строк датафрейма. Выведите размер датафрейма"
   ]
  },
  {
   "cell_type": "code",
   "execution_count": 2,
   "id": "514a55e0-07eb-457f-a400-8dec0ce20ba0",
   "metadata": {},
   "outputs": [
    {
     "data": {
      "text/html": [
       "<div>\n",
       "<style scoped>\n",
       "    .dataframe tbody tr th:only-of-type {\n",
       "        vertical-align: middle;\n",
       "    }\n",
       "\n",
       "    .dataframe tbody tr th {\n",
       "        vertical-align: top;\n",
       "    }\n",
       "\n",
       "    .dataframe thead th {\n",
       "        text-align: right;\n",
       "    }\n",
       "</style>\n",
       "<table border=\"1\" class=\"dataframe\">\n",
       "  <thead>\n",
       "    <tr style=\"text-align: right;\">\n",
       "      <th></th>\n",
       "      <th>Height</th>\n",
       "      <th>Weight</th>\n",
       "    </tr>\n",
       "  </thead>\n",
       "  <tbody>\n",
       "    <tr>\n",
       "      <th>0</th>\n",
       "      <td>65.78331</td>\n",
       "      <td>112.9925</td>\n",
       "    </tr>\n",
       "    <tr>\n",
       "      <th>1</th>\n",
       "      <td>71.51521</td>\n",
       "      <td>136.4873</td>\n",
       "    </tr>\n",
       "    <tr>\n",
       "      <th>2</th>\n",
       "      <td>69.39874</td>\n",
       "      <td>153.0269</td>\n",
       "    </tr>\n",
       "    <tr>\n",
       "      <th>3</th>\n",
       "      <td>68.21660</td>\n",
       "      <td>142.3354</td>\n",
       "    </tr>\n",
       "    <tr>\n",
       "      <th>4</th>\n",
       "      <td>67.78781</td>\n",
       "      <td>144.2971</td>\n",
       "    </tr>\n",
       "  </tbody>\n",
       "</table>\n",
       "</div>"
      ],
      "text/plain": [
       "     Height    Weight\n",
       "0  65.78331  112.9925\n",
       "1  71.51521  136.4873\n",
       "2  69.39874  153.0269\n",
       "3  68.21660  142.3354\n",
       "4  67.78781  144.2971"
      ]
     },
     "execution_count": 2,
     "metadata": {},
     "output_type": "execute_result"
    }
   ],
   "source": [
    "df.head()"
   ]
  },
  {
   "cell_type": "markdown",
   "id": "7484579d-9de1-4e6b-8288-f5ab5f05cee9",
   "metadata": {},
   "source": [
    "### Разобьем данные на тренировочную и тестовую выборки"
   ]
  },
  {
   "cell_type": "code",
   "execution_count": 3,
   "id": "2a4d0039-c1f5-4425-88f9-ad936717a645",
   "metadata": {},
   "outputs": [],
   "source": [
    "from sklearn.model_selection import train_test_split\n",
    "\n",
    "X = df[['Height']] # матрица объект-признак. Обычно признаков > 1\n",
    "y = df['Weight'] # вектор целевой переменной\n",
    "\n",
    "Xtrain, Xtest, ytrain, ytest = train_test_split(X, y, test_size=0.2)"
   ]
  },
  {
   "cell_type": "code",
   "execution_count": 4,
   "id": "6641c0f6-7a70-454a-b09c-e266786a19db",
   "metadata": {},
   "outputs": [
    {
     "data": {
      "text/plain": [
       "(25000, 1)"
      ]
     },
     "execution_count": 4,
     "metadata": {},
     "output_type": "execute_result"
    }
   ],
   "source": [
    "X.shape"
   ]
  },
  {
   "cell_type": "markdown",
   "id": "c0912a3b-2074-4658-8a08-b5792cfcab87",
   "metadata": {},
   "source": [
    "# Проверим, как работает функция линейной регрессии из sklearn"
   ]
  },
  {
   "cell_type": "code",
   "execution_count": 5,
   "id": "6a282e48-9c02-4a58-a028-fd50902911b0",
   "metadata": {},
   "outputs": [
    {
     "name": "stdout",
     "output_type": "stream",
     "text": [
      "\n",
      "Вес при признаке \"рост\": 3.051,\n",
      "Свободный коэффициент:  -80.413\n"
     ]
    }
   ],
   "source": [
    "from sklearn.linear_model import LinearRegression\n",
    "from sklearn.metrics import mean_squared_error\n",
    "\n",
    "model = LinearRegression()\n",
    "\n",
    "model.fit(Xtrain, ytrain) # обучение модели\n",
    "\n",
    "coef = float(model.coef_) # веса при признаках\n",
    "intercept = model.intercept_ # свободный коэффициент (w0)\n",
    "print(f'''\n",
    "Вес при признаке \"рост\": {coef:.3f},\n",
    "Свободный коэффициент:  {intercept:.3f}''')"
   ]
  },
  {
   "cell_type": "markdown",
   "id": "985c3103-7a59-418b-b9cc-45708be79bb0",
   "metadata": {},
   "source": [
    "$ Weight = w_0 + w_1\\cdot Height$\n",
    "\n",
    "$ Weight = -81.4 + 3\\cdot Height$"
   ]
  },
  {
   "cell_type": "markdown",
   "id": "c4c7d49f-1ec7-43ba-b261-31e33dd66e58",
   "metadata": {},
   "source": [
    "Возьмите любую пару рост и вес из датафрейма. Проверьте, что если подставить их в нашу формулу, получится что-то похожее"
   ]
  },
  {
   "cell_type": "code",
   "execution_count": 6,
   "id": "ddbeac88-7138-4bba-ac90-37a594883696",
   "metadata": {},
   "outputs": [],
   "source": [
    "h = df['Height'][0]\n",
    "w = df['Weight'][0]"
   ]
  },
  {
   "cell_type": "code",
   "execution_count": 8,
   "id": "6679a11c-39bf-4f8b-9679-814c1b097ea3",
   "metadata": {},
   "outputs": [
    {
     "data": {
      "text/plain": [
       "112.9925"
      ]
     },
     "execution_count": 8,
     "metadata": {},
     "output_type": "execute_result"
    }
   ],
   "source": [
    "w"
   ]
  },
  {
   "cell_type": "code",
   "execution_count": 9,
   "id": "d23c137b-bd80-4d18-9943-16e2dc33e4e7",
   "metadata": {},
   "outputs": [
    {
     "data": {
      "text/plain": [
       "120.262973477454"
      ]
     },
     "execution_count": 9,
     "metadata": {},
     "output_type": "execute_result"
    }
   ],
   "source": [
    "intercept + h * coef"
   ]
  },
  {
   "cell_type": "code",
   "execution_count": 10,
   "id": "3d4c140f-ca70-4f7f-87a9-f57645bd5204",
   "metadata": {},
   "outputs": [
    {
     "data": {
      "text/plain": [
       "10.142596191178072"
      ]
     },
     "execution_count": 10,
     "metadata": {},
     "output_type": "execute_result"
    }
   ],
   "source": [
    "pred_test = model.predict(Xtest) # делаем предсказание\n",
    "\n",
    "mean_squared_error(pred_test, ytest) ** 0.5 # ошибка примерно 10 фунтов"
   ]
  },
  {
   "cell_type": "code",
   "execution_count": 11,
   "id": "2079c7a4-48cf-4917-9d1b-b0bfecd24e2b",
   "metadata": {},
   "outputs": [
    {
     "data": {
      "text/plain": [
       "10.063776144182873"
      ]
     },
     "execution_count": 11,
     "metadata": {},
     "output_type": "execute_result"
    }
   ],
   "source": [
    "pred_train = model.predict(Xtrain)\n",
    "\n",
    "mean_squared_error(pred_train, ytrain) ** 0.5"
   ]
  },
  {
   "cell_type": "markdown",
   "id": "98b8fbba-108c-40e8-a776-6eb36b02519b",
   "metadata": {},
   "source": [
    "Модель не переобучена. Как мы это поняли?"
   ]
  },
  {
   "cell_type": "markdown",
   "id": "6f82975b-1c85-4ebc-ad18-acc03d792cb8",
   "metadata": {},
   "source": [
    "### Это тот редкий случай, когда мы можем изобразить график с линейной регрессией."
   ]
  },
  {
   "cell_type": "code",
   "execution_count": null,
   "id": "098ddd89-9b70-4813-90e0-55250b5d6894",
   "metadata": {},
   "outputs": [],
   "source": [
    "from matplotlib import pylab as plt\n",
    "%pylab inline\n",
    "\n",
    "scatter(df['Height'], df['Weight'])\n",
    "\n",
    "plot(X, coef * X + intercept, 'r')"
   ]
  },
  {
   "cell_type": "markdown",
   "id": "21dea956-f77f-4e55-a585-406b8fea3928",
   "metadata": {},
   "source": [
    "# Задание 2\n",
    "\n",
    "Поработаем с датасетом Бостон."
   ]
  },
  {
   "cell_type": "code",
   "execution_count": 13,
   "id": "9d11af49-7c0e-48ac-8991-cc46315b2e80",
   "metadata": {
    "scrolled": true
   },
   "outputs": [
    {
     "name": "stdout",
     "output_type": "stream",
     "text": [
      ".. _boston_dataset:\n",
      "\n",
      "Boston house prices dataset\n",
      "---------------------------\n",
      "\n",
      "**Data Set Characteristics:**  \n",
      "\n",
      "    :Number of Instances: 506 \n",
      "\n",
      "    :Number of Attributes: 13 numeric/categorical predictive. Median Value (attribute 14) is usually the target.\n",
      "\n",
      "    :Attribute Information (in order):\n",
      "        - CRIM     per capita crime rate by town\n",
      "        - ZN       proportion of residential land zoned for lots over 25,000 sq.ft.\n",
      "        - INDUS    proportion of non-retail business acres per town\n",
      "        - CHAS     Charles River dummy variable (= 1 if tract bounds river; 0 otherwise)\n",
      "        - NOX      nitric oxides concentration (parts per 10 million)\n",
      "        - RM       average number of rooms per dwelling\n",
      "        - AGE      proportion of owner-occupied units built prior to 1940\n",
      "        - DIS      weighted distances to five Boston employment centres\n",
      "        - RAD      index of accessibility to radial highways\n",
      "        - TAX      full-value property-tax rate per $10,000\n",
      "        - PTRATIO  pupil-teacher ratio by town\n",
      "        - B        1000(Bk - 0.63)^2 where Bk is the proportion of black people by town\n",
      "        - LSTAT    % lower status of the population\n",
      "        - MEDV     Median value of owner-occupied homes in $1000's\n",
      "\n",
      "    :Missing Attribute Values: None\n",
      "\n",
      "    :Creator: Harrison, D. and Rubinfeld, D.L.\n",
      "\n",
      "This is a copy of UCI ML housing dataset.\n",
      "https://archive.ics.uci.edu/ml/machine-learning-databases/housing/\n",
      "\n",
      "\n",
      "This dataset was taken from the StatLib library which is maintained at Carnegie Mellon University.\n",
      "\n",
      "The Boston house-price data of Harrison, D. and Rubinfeld, D.L. 'Hedonic\n",
      "prices and the demand for clean air', J. Environ. Economics & Management,\n",
      "vol.5, 81-102, 1978.   Used in Belsley, Kuh & Welsch, 'Regression diagnostics\n",
      "...', Wiley, 1980.   N.B. Various transformations are used in the table on\n",
      "pages 244-261 of the latter.\n",
      "\n",
      "The Boston house-price data has been used in many machine learning papers that address regression\n",
      "problems.   \n",
      "     \n",
      ".. topic:: References\n",
      "\n",
      "   - Belsley, Kuh & Welsch, 'Regression diagnostics: Identifying Influential Data and Sources of Collinearity', Wiley, 1980. 244-261.\n",
      "   - Quinlan,R. (1993). Combining Instance-Based and Model-Based Learning. In Proceedings on the Tenth International Conference of Machine Learning, 236-243, University of Massachusetts, Amherst. Morgan Kaufmann.\n",
      "\n"
     ]
    },
    {
     "name": "stderr",
     "output_type": "stream",
     "text": [
      "/home/al/anaconda3/lib/python3.9/site-packages/sklearn/utils/deprecation.py:87: FutureWarning: Function load_boston is deprecated; `load_boston` is deprecated in 1.0 and will be removed in 1.2.\n",
      "\n",
      "    The Boston housing prices dataset has an ethical problem. You can refer to\n",
      "    the documentation of this function for further details.\n",
      "\n",
      "    The scikit-learn maintainers therefore strongly discourage the use of this\n",
      "    dataset unless the purpose of the code is to study and educate about\n",
      "    ethical issues in data science and machine learning.\n",
      "\n",
      "    In this special case, you can fetch the dataset from the original\n",
      "    source::\n",
      "\n",
      "        import pandas as pd\n",
      "        import numpy as np\n",
      "\n",
      "\n",
      "        data_url = \"http://lib.stat.cmu.edu/datasets/boston\"\n",
      "        raw_df = pd.read_csv(data_url, sep=\"\\s+\", skiprows=22, header=None)\n",
      "        data = np.hstack([raw_df.values[::2, :], raw_df.values[1::2, :2]])\n",
      "        target = raw_df.values[1::2, 2]\n",
      "\n",
      "    Alternative datasets include the California housing dataset (i.e.\n",
      "    :func:`~sklearn.datasets.fetch_california_housing`) and the Ames housing\n",
      "    dataset. You can load the datasets as follows::\n",
      "\n",
      "        from sklearn.datasets import fetch_california_housing\n",
      "        housing = fetch_california_housing()\n",
      "\n",
      "    for the California housing dataset and::\n",
      "\n",
      "        from sklearn.datasets import fetch_openml\n",
      "        housing = fetch_openml(name=\"house_prices\", as_frame=True)\n",
      "\n",
      "    for the Ames housing dataset.\n",
      "    \n",
      "  warnings.warn(msg, category=FutureWarning)\n"
     ]
    }
   ],
   "source": [
    "from sklearn.datasets import load_boston\n",
    "\n",
    "data = load_boston()\n",
    "print(data.DESCR)"
   ]
  },
  {
   "cell_type": "code",
   "execution_count": 14,
   "id": "ddc09c53-ecab-4f4b-b1c3-3504ab4620ad",
   "metadata": {},
   "outputs": [],
   "source": [
    "X_full = data.data\n",
    "y_full = data.target"
   ]
  },
  {
   "cell_type": "markdown",
   "id": "218e3150-3ad3-4fba-9b98-bb4ab16b2b56",
   "metadata": {},
   "source": [
    "Разбейте данные на train и test. Обучите линейную регрессию на train и сделайте предсказание на train и test."
   ]
  },
  {
   "cell_type": "code",
   "execution_count": 16,
   "id": "29e2bd16-c150-4bda-9ef4-00983011aef1",
   "metadata": {},
   "outputs": [],
   "source": [
    "# your code here\n",
    "Xtrain, Xtest, ytrain, ytest = train_test_split(X_full, y_full, test_size=0.2)\n",
    "\n",
    "model = LinearRegression()\n",
    "model.fit(Xtrain, ytrain) # обучение модели\n",
    "pred_train = model.predict(Xtrain)\n",
    "pred_test = model.predict(Xtest)"
   ]
  },
  {
   "cell_type": "markdown",
   "id": "424659c6-5e0e-4ec3-a35e-0f9ec7839670",
   "metadata": {},
   "source": [
    "Выведите MSE на train и на test. Выведите RMSE. На сколько в среднем мы ошибаемся на train и test? Модель переобучена, недообучена или все ок?"
   ]
  },
  {
   "cell_type": "code",
   "execution_count": 17,
   "id": "c6aec087-38f9-423c-ab4f-6c03ec2e4701",
   "metadata": {},
   "outputs": [
    {
     "data": {
      "text/plain": [
       "4.726838053480351"
      ]
     },
     "execution_count": 17,
     "metadata": {},
     "output_type": "execute_result"
    }
   ],
   "source": [
    "mean_squared_error(pred_test, ytest) ** 0.5 "
   ]
  },
  {
   "cell_type": "code",
   "execution_count": 18,
   "id": "3ef59352-e9cc-4a91-9c80-1a2584aba51a",
   "metadata": {},
   "outputs": [
    {
     "data": {
      "text/plain": [
       "4.695754032786772"
      ]
     },
     "execution_count": 18,
     "metadata": {},
     "output_type": "execute_result"
    }
   ],
   "source": [
    "mean_squared_error(pred_train, ytrain) ** 0.5"
   ]
  },
  {
   "cell_type": "markdown",
   "id": "84d7aa31-6411-43ee-96d2-066f2ae3f8e5",
   "metadata": {},
   "source": [
    "Нарисуем матрицу корреляций признаков."
   ]
  },
  {
   "cell_type": "code",
   "execution_count": 20,
   "id": "32ef4122-5fb2-4ba0-a939-b4f16b3c1f4e",
   "metadata": {},
   "outputs": [
    {
     "data": {
      "text/plain": [
       "<AxesSubplot:>"
      ]
     },
     "execution_count": 20,
     "metadata": {},
     "output_type": "execute_result"
    },
    {
     "data": {
      "image/png": "[encoded data removed]",
      "text/plain": [
       "<Figure size 864x648 with 2 Axes>"
      ]
     },
     "metadata": {
      "needs_background": "light"
     },
     "output_type": "display_data"
    }
   ],
   "source": [
    "import seaborn as sns\n",
    "\n",
    "data1 = pd.DataFrame(data=np.c_[data['data'], data['target']],\n",
    "                     columns=list(data['feature_names']) + ['target'])\n",
    "\n",
    "plt.figure(figsize=(12,9))\n",
    "\n",
    "corr = data1.corr()\n",
    "\n",
    "sns.heatmap(corr,annot=True,linewidths=.5,fmt= '.2f',\\\n",
    "            mask=np.zeros_like(corr, dtype=bool), \\\n",
    "            cmap=sns.diverging_palette(100,200,as_cmap=True), square=True)"
   ]
  },
  {
   "cell_type": "code",
   "execution_count": 21,
   "id": "2fd61cd5-539c-4796-bc2c-7d00f2edad88",
   "metadata": {},
   "outputs": [
    {
     "data": {
      "text/html": [
       "<div>\n",
       "<style scoped>\n",
       "    .dataframe tbody tr th:only-of-type {\n",
       "        vertical-align: middle;\n",
       "    }\n",
       "\n",
       "    .dataframe tbody tr th {\n",
       "        vertical-align: top;\n",
       "    }\n",
       "\n",
       "    .dataframe thead th {\n",
       "        text-align: right;\n",
       "    }\n",
       "</style>\n",
       "<table border=\"1\" class=\"dataframe\">\n",
       "  <thead>\n",
       "    <tr style=\"text-align: right;\">\n",
       "      <th></th>\n",
       "      <th>CRIM</th>\n",
       "      <th>ZN</th>\n",
       "      <th>INDUS</th>\n",
       "      <th>CHAS</th>\n",
       "      <th>NOX</th>\n",
       "      <th>RM</th>\n",
       "      <th>AGE</th>\n",
       "      <th>DIS</th>\n",
       "      <th>RAD</th>\n",
       "      <th>TAX</th>\n",
       "      <th>PTRATIO</th>\n",
       "      <th>B</th>\n",
       "      <th>LSTAT</th>\n",
       "      <th>target</th>\n",
       "    </tr>\n",
       "  </thead>\n",
       "  <tbody>\n",
       "    <tr>\n",
       "      <th>0</th>\n",
       "      <td>0.00632</td>\n",
       "      <td>18.0</td>\n",
       "      <td>2.31</td>\n",
       "      <td>0.0</td>\n",
       "      <td>0.538</td>\n",
       "      <td>6.575</td>\n",
       "      <td>65.2</td>\n",
       "      <td>4.0900</td>\n",
       "      <td>1.0</td>\n",
       "      <td>296.0</td>\n",
       "      <td>15.3</td>\n",
       "      <td>396.90</td>\n",
       "      <td>4.98</td>\n",
       "      <td>24.0</td>\n",
       "    </tr>\n",
       "    <tr>\n",
       "      <th>1</th>\n",
       "      <td>0.02731</td>\n",
       "      <td>0.0</td>\n",
       "      <td>7.07</td>\n",
       "      <td>0.0</td>\n",
       "      <td>0.469</td>\n",
       "      <td>6.421</td>\n",
       "      <td>78.9</td>\n",
       "      <td>4.9671</td>\n",
       "      <td>2.0</td>\n",
       "      <td>242.0</td>\n",
       "      <td>17.8</td>\n",
       "      <td>396.90</td>\n",
       "      <td>9.14</td>\n",
       "      <td>21.6</td>\n",
       "    </tr>\n",
       "    <tr>\n",
       "      <th>2</th>\n",
       "      <td>0.02729</td>\n",
       "      <td>0.0</td>\n",
       "      <td>7.07</td>\n",
       "      <td>0.0</td>\n",
       "      <td>0.469</td>\n",
       "      <td>7.185</td>\n",
       "      <td>61.1</td>\n",
       "      <td>4.9671</td>\n",
       "      <td>2.0</td>\n",
       "      <td>242.0</td>\n",
       "      <td>17.8</td>\n",
       "      <td>392.83</td>\n",
       "      <td>4.03</td>\n",
       "      <td>34.7</td>\n",
       "    </tr>\n",
       "    <tr>\n",
       "      <th>3</th>\n",
       "      <td>0.03237</td>\n",
       "      <td>0.0</td>\n",
       "      <td>2.18</td>\n",
       "      <td>0.0</td>\n",
       "      <td>0.458</td>\n",
       "      <td>6.998</td>\n",
       "      <td>45.8</td>\n",
       "      <td>6.0622</td>\n",
       "      <td>3.0</td>\n",
       "      <td>222.0</td>\n",
       "      <td>18.7</td>\n",
       "      <td>394.63</td>\n",
       "      <td>2.94</td>\n",
       "      <td>33.4</td>\n",
       "    </tr>\n",
       "    <tr>\n",
       "      <th>4</th>\n",
       "      <td>0.06905</td>\n",
       "      <td>0.0</td>\n",
       "      <td>2.18</td>\n",
       "      <td>0.0</td>\n",
       "      <td>0.458</td>\n",
       "      <td>7.147</td>\n",
       "      <td>54.2</td>\n",
       "      <td>6.0622</td>\n",
       "      <td>3.0</td>\n",
       "      <td>222.0</td>\n",
       "      <td>18.7</td>\n",
       "      <td>396.90</td>\n",
       "      <td>5.33</td>\n",
       "      <td>36.2</td>\n",
       "    </tr>\n",
       "  </tbody>\n",
       "</table>\n",
       "</div>"
      ],
      "text/plain": [
       "      CRIM    ZN  INDUS  CHAS    NOX     RM   AGE     DIS  RAD    TAX  \\\n",
       "0  0.00632  18.0   2.31   0.0  0.538  6.575  65.2  4.0900  1.0  296.0   \n",
       "1  0.02731   0.0   7.07   0.0  0.469  6.421  78.9  4.9671  2.0  242.0   \n",
       "2  0.02729   0.0   7.07   0.0  0.469  7.185  61.1  4.9671  2.0  242.0   \n",
       "3  0.03237   0.0   2.18   0.0  0.458  6.998  45.8  6.0622  3.0  222.0   \n",
       "4  0.06905   0.0   2.18   0.0  0.458  7.147  54.2  6.0622  3.0  222.0   \n",
       "\n",
       "   PTRATIO       B  LSTAT  target  \n",
       "0     15.3  396.90   4.98    24.0  \n",
       "1     17.8  396.90   9.14    21.6  \n",
       "2     17.8  392.83   4.03    34.7  \n",
       "3     18.7  394.63   2.94    33.4  \n",
       "4     18.7  396.90   5.33    36.2  "
      ]
     },
     "execution_count": 21,
     "metadata": {},
     "output_type": "execute_result"
    }
   ],
   "source": [
    "data1.head()"
   ]
  },
  {
   "cell_type": "markdown",
   "id": "bbee632c-e6bd-4ffd-a820-4d72372ba7e1",
   "metadata": {},
   "source": [
    "Мы можем удалять признаки"
   ]
  },
  {
   "cell_type": "code",
   "execution_count": 22,
   "id": "bb128e79-4c32-4592-b0c4-9cb4c10b6133",
   "metadata": {},
   "outputs": [],
   "source": [
    "del data1['RAD']"
   ]
  },
  {
   "cell_type": "markdown",
   "id": "a0b959b5-4b6c-41c3-af27-1a9548d29274",
   "metadata": {},
   "source": [
    "Создавать новые из уже существующих"
   ]
  },
  {
   "cell_type": "code",
   "execution_count": 23,
   "id": "1c6dbf87-2fee-44a7-9474-8f9779c38a0f",
   "metadata": {},
   "outputs": [],
   "source": [
    "data1['NEW'] = data1['LSTAT'] ** 2"
   ]
  },
  {
   "cell_type": "markdown",
   "id": "817c4c88-ad01-494c-a6b9-f4cf6c35e492",
   "metadata": {},
   "source": [
    "Посмотрим на новую матрицу объект-признак"
   ]
  },
  {
   "cell_type": "code",
   "execution_count": 24,
   "id": "30203278-bf3b-452e-a874-7138bb980810",
   "metadata": {},
   "outputs": [
    {
     "data": {
      "text/html": [
       "<div>\n",
       "<style scoped>\n",
       "    .dataframe tbody tr th:only-of-type {\n",
       "        vertical-align: middle;\n",
       "    }\n",
       "\n",
       "    .dataframe tbody tr th {\n",
       "        vertical-align: top;\n",
       "    }\n",
       "\n",
       "    .dataframe thead th {\n",
       "        text-align: right;\n",
       "    }\n",
       "</style>\n",
       "<table border=\"1\" class=\"dataframe\">\n",
       "  <thead>\n",
       "    <tr style=\"text-align: right;\">\n",
       "      <th></th>\n",
       "      <th>CRIM</th>\n",
       "      <th>ZN</th>\n",
       "      <th>INDUS</th>\n",
       "      <th>CHAS</th>\n",
       "      <th>NOX</th>\n",
       "      <th>RM</th>\n",
       "      <th>AGE</th>\n",
       "      <th>DIS</th>\n",
       "      <th>TAX</th>\n",
       "      <th>PTRATIO</th>\n",
       "      <th>B</th>\n",
       "      <th>LSTAT</th>\n",
       "      <th>NEW</th>\n",
       "    </tr>\n",
       "  </thead>\n",
       "  <tbody>\n",
       "    <tr>\n",
       "      <th>0</th>\n",
       "      <td>0.00632</td>\n",
       "      <td>18.0</td>\n",
       "      <td>2.31</td>\n",
       "      <td>0.0</td>\n",
       "      <td>0.538</td>\n",
       "      <td>6.575</td>\n",
       "      <td>65.2</td>\n",
       "      <td>4.0900</td>\n",
       "      <td>296.0</td>\n",
       "      <td>15.3</td>\n",
       "      <td>396.90</td>\n",
       "      <td>4.98</td>\n",
       "      <td>24.8004</td>\n",
       "    </tr>\n",
       "    <tr>\n",
       "      <th>1</th>\n",
       "      <td>0.02731</td>\n",
       "      <td>0.0</td>\n",
       "      <td>7.07</td>\n",
       "      <td>0.0</td>\n",
       "      <td>0.469</td>\n",
       "      <td>6.421</td>\n",
       "      <td>78.9</td>\n",
       "      <td>4.9671</td>\n",
       "      <td>242.0</td>\n",
       "      <td>17.8</td>\n",
       "      <td>396.90</td>\n",
       "      <td>9.14</td>\n",
       "      <td>83.5396</td>\n",
       "    </tr>\n",
       "    <tr>\n",
       "      <th>2</th>\n",
       "      <td>0.02729</td>\n",
       "      <td>0.0</td>\n",
       "      <td>7.07</td>\n",
       "      <td>0.0</td>\n",
       "      <td>0.469</td>\n",
       "      <td>7.185</td>\n",
       "      <td>61.1</td>\n",
       "      <td>4.9671</td>\n",
       "      <td>242.0</td>\n",
       "      <td>17.8</td>\n",
       "      <td>392.83</td>\n",
       "      <td>4.03</td>\n",
       "      <td>16.2409</td>\n",
       "    </tr>\n",
       "    <tr>\n",
       "      <th>3</th>\n",
       "      <td>0.03237</td>\n",
       "      <td>0.0</td>\n",
       "      <td>2.18</td>\n",
       "      <td>0.0</td>\n",
       "      <td>0.458</td>\n",
       "      <td>6.998</td>\n",
       "      <td>45.8</td>\n",
       "      <td>6.0622</td>\n",
       "      <td>222.0</td>\n",
       "      <td>18.7</td>\n",
       "      <td>394.63</td>\n",
       "      <td>2.94</td>\n",
       "      <td>8.6436</td>\n",
       "    </tr>\n",
       "    <tr>\n",
       "      <th>4</th>\n",
       "      <td>0.06905</td>\n",
       "      <td>0.0</td>\n",
       "      <td>2.18</td>\n",
       "      <td>0.0</td>\n",
       "      <td>0.458</td>\n",
       "      <td>7.147</td>\n",
       "      <td>54.2</td>\n",
       "      <td>6.0622</td>\n",
       "      <td>222.0</td>\n",
       "      <td>18.7</td>\n",
       "      <td>396.90</td>\n",
       "      <td>5.33</td>\n",
       "      <td>28.4089</td>\n",
       "    </tr>\n",
       "  </tbody>\n",
       "</table>\n",
       "</div>"
      ],
      "text/plain": [
       "      CRIM    ZN  INDUS  CHAS    NOX     RM   AGE     DIS    TAX  PTRATIO  \\\n",
       "0  0.00632  18.0   2.31   0.0  0.538  6.575  65.2  4.0900  296.0     15.3   \n",
       "1  0.02731   0.0   7.07   0.0  0.469  6.421  78.9  4.9671  242.0     17.8   \n",
       "2  0.02729   0.0   7.07   0.0  0.469  7.185  61.1  4.9671  242.0     17.8   \n",
       "3  0.03237   0.0   2.18   0.0  0.458  6.998  45.8  6.0622  222.0     18.7   \n",
       "4  0.06905   0.0   2.18   0.0  0.458  7.147  54.2  6.0622  222.0     18.7   \n",
       "\n",
       "        B  LSTAT      NEW  \n",
       "0  396.90   4.98  24.8004  \n",
       "1  396.90   9.14  83.5396  \n",
       "2  392.83   4.03  16.2409  \n",
       "3  394.63   2.94   8.6436  \n",
       "4  396.90   5.33  28.4089  "
      ]
     },
     "execution_count": 24,
     "metadata": {},
     "output_type": "execute_result"
    }
   ],
   "source": [
    "y = data1['target']\n",
    "\n",
    "X = data1.drop('target', axis=1)\n",
    "\n",
    "X.head()"
   ]
  },
  {
   "cell_type": "code",
   "execution_count": 26,
   "id": "eef8d33f-9040-41bb-bd5a-c3fa0c23f973",
   "metadata": {},
   "outputs": [
    {
     "name": "stdout",
     "output_type": "stream",
     "text": [
      "5.351735507025865 4.033859964311233\n"
     ]
    },
    {
     "name": "stderr",
     "output_type": "stream",
     "text": [
      "/home/al/anaconda3/lib/python3.9/site-packages/sklearn/utils/validation.py:1688: FutureWarning: Feature names only support names that are all strings. Got feature names with dtypes: ['str', 'str_']. An error will be raised in 1.2.\n",
      "  warnings.warn(\n",
      "/home/al/anaconda3/lib/python3.9/site-packages/sklearn/utils/validation.py:1688: FutureWarning: Feature names only support names that are all strings. Got feature names with dtypes: ['str', 'str_']. An error will be raised in 1.2.\n",
      "  warnings.warn(\n",
      "/home/al/anaconda3/lib/python3.9/site-packages/sklearn/utils/validation.py:1688: FutureWarning: Feature names only support names that are all strings. Got feature names with dtypes: ['str', 'str_']. An error will be raised in 1.2.\n",
      "  warnings.warn(\n"
     ]
    }
   ],
   "source": [
    "Xtrain, Xtest, ytrain, ytest = train_test_split(X, y, test_size=0.2)\n",
    "model = LinearRegression()\n",
    "model.fit(Xtrain, ytrain) # обучение модели\n",
    "pred_train = model.predict(Xtrain)\n",
    "pred_test = model.predict(Xtest)\n",
    "print(mean_squared_error(pred_test, ytest) ** 0.5, mean_squared_error(pred_train, ytrain) ** 0.5)"
   ]
  },
  {
   "cell_type": "markdown",
   "id": "12d5f9f2-9746-4f89-af83-031a37573553",
   "metadata": {},
   "source": [
    "Можем изучить каждый признак в отдельности, изучить его распределение с ЦП"
   ]
  },
  {
   "cell_type": "code",
   "execution_count": null,
   "id": "91100d5c-4363-42cc-bc7d-8cdeda894bff",
   "metadata": {},
   "outputs": [],
   "source": [
    "for c in data1.columns:\n",
    "    if c != 'target':\n",
    "        print(c)\n",
    "        scatter(data1[c], data1['target'])\n",
    "        show()"
   ]
  },
  {
   "cell_type": "markdown",
   "id": "d72edf91-268c-4764-991e-d6a5f0f2d66f",
   "metadata": {},
   "source": [
    "Попробуйте убрать из данных признаки с наименьшей корреляцией с target (1, 2 или 3 признака) и обучить линейную регрессию на оставшихся признаках. Как изменилось качество?"
   ]
  },
  {
   "cell_type": "code",
   "execution_count": null,
   "id": "6965fbec-cd2f-4176-8dc7-5f640f653f6c",
   "metadata": {},
   "outputs": [],
   "source": [
    "#your code here"
   ]
  },
  {
   "cell_type": "markdown",
   "id": "45a61b3d-9fef-4c7e-bc16-b0a7ab79d7d0",
   "metadata": {},
   "source": [
    "# Задание 3. \n",
    "\n",
    "Откроем новый датасет: в нем собрана информация про мобильные телефоны, их характеристики и ценовой диапазон. Посмотрите, какие там есть колонки, прикиньте, что они могут означать. Проверьте, есть ли в этом датасете пропущенные значения. "
   ]
  },
  {
   "cell_type": "code",
   "execution_count": null,
   "id": "642af4c4-2fdc-4cf9-8321-0bc8695ca37c",
   "metadata": {},
   "outputs": [],
   "source": [
    "# your code here"
   ]
  },
  {
   "cell_type": "markdown",
   "id": "e8e982c1-5aae-4a49-94e9-00be03a29303",
   "metadata": {},
   "source": [
    "Бонус: давайте на графике посмотрим, как взаимодействуют друг с другом телефонные параметры. Попробуйте проанализировать график и понять, что на нем изображено. "
   ]
  },
  {
   "cell_type": "code",
   "execution_count": null,
   "id": "e12fe27c-48b0-4275-86dc-ee8bb0c64171",
   "metadata": {},
   "outputs": [],
   "source": [
    "import seaborn as sns\n",
    "import matplotlib.pyplot as plt\n",
    "\n",
    "plt.figure(figsize=(20, 12))\n",
    "\n",
    "corr = data.corr()\n",
    "sns.heatmap(corr, \n",
    "            annot=True, linewidths=.5, fmt='.2f',\n",
    "            xticklabels=corr.columns.values,\n",
    "            yticklabels=corr.columns.values,\n",
    "            cmap=sns.diverging_palette(100, 200, as_cmap=True), square=True)\n",
    "plt.show()"
   ]
  },
  {
   "cell_type": "markdown",
   "id": "1546d9bd-5981-4f8f-9eed-f686cd5e652d",
   "metadata": {},
   "source": [
    "Задача: поработайте с признаками и обучите линейную регрессию для предсказания цены телефона."
   ]
  },
  {
   "cell_type": "code",
   "execution_count": null,
   "id": "ce2ab76b-2ed2-414f-9c58-97f95537e6bb",
   "metadata": {},
   "outputs": [],
   "source": [
    "# your code here"
   ]
  }
 ],
 "metadata": {
  "kernelspec": {
   "display_name": "Python 3 (ipykernel)",
   "language": "python",
   "name": "python3"
  },
  "language_info": {
   "codemirror_mode": {
    "name": "ipython",
    "version": 3
   },
   "file_extension": ".py",
   "mimetype": "text/x-python",
   "name": "python",
   "nbconvert_exporter": "python",
   "pygments_lexer": "ipython3",
   "version": "3.9.12"
  }
 },
 "nbformat": 4,
 "nbformat_minor": 5
}
