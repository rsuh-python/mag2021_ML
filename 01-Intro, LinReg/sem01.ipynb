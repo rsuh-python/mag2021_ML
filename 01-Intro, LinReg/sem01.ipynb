{
 "cells": [
  {
   "cell_type": "markdown",
   "id": "798e8658-a6f1-457f-8230-be6ffb86d538",
   "metadata": {},
   "source": [
    "# Линейная регрессия"
   ]
  },
  {
   "cell_type": "markdown",
   "id": "9ac08ac5-b52e-405a-bd19-96c9f8432e45",
   "metadata": {},
   "source": [
    "# Задание 1\n",
    "\n",
    "Считайте файл weights_heights.csv"
   ]
  },
  {
   "cell_type": "code",
   "execution_count": null,
   "id": "79dbec6e-0e1f-46f4-9afe-ce9d63812961",
   "metadata": {},
   "outputs": [],
   "source": [
    "import pandas as pd\n",
    "\n",
    "df = pd.read_csv(\"weights_heights.csv\")"
   ]
  },
  {
   "cell_type": "markdown",
   "id": "f2efb2d7-e2ef-44c5-b2e5-28dd98ba318e",
   "metadata": {},
   "source": [
    "Выведите первые 10 строк датафрейма. Выведите размер датафрейма"
   ]
  },
  {
   "cell_type": "code",
   "execution_count": null,
   "id": "568fa2db-af15-4f82-8272-7d5d6120ef15",
   "metadata": {},
   "outputs": [],
   "source": [
    "# your code here"
   ]
  },
  {
   "cell_type": "code",
   "execution_count": null,
   "id": "514a55e0-07eb-457f-a400-8dec0ce20ba0",
   "metadata": {},
   "outputs": [],
   "source": [
    "df.head()"
   ]
  },
  {
   "cell_type": "markdown",
   "id": "7484579d-9de1-4e6b-8288-f5ab5f05cee9",
   "metadata": {},
   "source": [
    "### Разобьем данные на тренировочную и тестовую выборки"
   ]
  },
  {
   "cell_type": "code",
   "execution_count": null,
   "id": "2a4d0039-c1f5-4425-88f9-ad936717a645",
   "metadata": {},
   "outputs": [],
   "source": [
    "from sklearn.model_selection import train_test_split\n",
    "\n",
    "X = df[['Height']] # матрица объект-признак. Обычно признаков > 1\n",
    "y = df['Weight'] # вектор целевой переменной\n",
    "\n",
    "Xtrain, Xtest, ytrain, ytest = train_test_split(X, y, test_size=0.2)"
   ]
  },
  {
   "cell_type": "code",
   "execution_count": null,
   "id": "6641c0f6-7a70-454a-b09c-e266786a19db",
   "metadata": {},
   "outputs": [],
   "source": [
    "X.shape"
   ]
  },
  {
   "cell_type": "markdown",
   "id": "c0912a3b-2074-4658-8a08-b5792cfcab87",
   "metadata": {},
   "source": [
    "# Проверим, как работает функция линейной регрессии из sklearn"
   ]
  },
  {
   "cell_type": "code",
   "execution_count": null,
   "id": "6a282e48-9c02-4a58-a028-fd50902911b0",
   "metadata": {},
   "outputs": [],
   "source": [
    "from sklearn.linear_model import LinearRegression\n",
    "from sklearn.metrics import mean_squared_error\n",
    "\n",
    "model = LinearRegression()\n",
    "\n",
    "model.fit(Xtrain, ytrain) # обучение модели\n",
    "\n",
    "coef = float(model.coef_) # веса при признаках\n",
    "intercept = model.intercept_ # свободный коэффициент (w0)\n",
    "print(f'''\n",
    "Вес при признаке \"рост\": {coef:.3f},\n",
    "Свободный коэффициент:  {intercept:.3f}''')"
   ]
  },
  {
   "cell_type": "markdown",
   "id": "985c3103-7a59-418b-b9cc-45708be79bb0",
   "metadata": {},
   "source": [
    "$ Weight = w_0 + w_1\\cdot Height$\n",
    "\n",
    "$ Weight = -81.4 + 3\\cdot Height$"
   ]
  },
  {
   "cell_type": "markdown",
   "id": "c4c7d49f-1ec7-43ba-b261-31e33dd66e58",
   "metadata": {},
   "source": [
    "Возьмите любую пару рост и вес из датафрейма. Проверьте, что если подставить их в нашу формулу, получится что-то похожее"
   ]
  },
  {
   "cell_type": "code",
   "execution_count": null,
   "id": "ddbeac88-7138-4bba-ac90-37a594883696",
   "metadata": {},
   "outputs": [],
   "source": [
    "# your code here"
   ]
  },
  {
   "cell_type": "code",
   "execution_count": null,
   "id": "3d4c140f-ca70-4f7f-87a9-f57645bd5204",
   "metadata": {},
   "outputs": [],
   "source": [
    "pred_test = model.predict(Xtest) # делаем предсказание\n",
    "\n",
    "mean_squared_error(pred_test, ytest) ** 0.5 # ошибка примерно 10 фунтов"
   ]
  },
  {
   "cell_type": "code",
   "execution_count": null,
   "id": "2079c7a4-48cf-4917-9d1b-b0bfecd24e2b",
   "metadata": {},
   "outputs": [],
   "source": [
    "pred_train = model.predict(Xtrain)\n",
    "\n",
    "mean_squared_error(pred_train, ytrain) ** 0.5"
   ]
  },
  {
   "cell_type": "markdown",
   "id": "98b8fbba-108c-40e8-a776-6eb36b02519b",
   "metadata": {},
   "source": [
    "Модель не переобучена. Как мы это поняли?"
   ]
  },
  {
   "cell_type": "markdown",
   "id": "6f82975b-1c85-4ebc-ad18-acc03d792cb8",
   "metadata": {},
   "source": [
    "### Это тот редкий случай, когда мы можем изобразить график с линейной регрессией."
   ]
  },
  {
   "cell_type": "code",
   "execution_count": null,
   "id": "098ddd89-9b70-4813-90e0-55250b5d6894",
   "metadata": {},
   "outputs": [],
   "source": [
    "from matplotlib import pylab as plt\n",
    "%pylab inline\n",
    "\n",
    "scatter(df['Height'], df['Weight'])\n",
    "\n",
    "plot(X, coef * X + intercept, 'r')"
   ]
  },
  {
   "cell_type": "markdown",
   "id": "21dea956-f77f-4e55-a585-406b8fea3928",
   "metadata": {},
   "source": [
    "# Задание 2\n",
    "\n",
    "Поработаем с датасетом Бостон."
   ]
  },
  {
   "cell_type": "code",
   "execution_count": null,
   "id": "9d11af49-7c0e-48ac-8991-cc46315b2e80",
   "metadata": {
    "scrolled": true
   },
   "outputs": [],
   "source": [
    "from sklearn.datasets import load_boston\n",
    "\n",
    "data = load_boston()\n",
    "print(data.DESCR)"
   ]
  },
  {
   "cell_type": "code",
   "execution_count": null,
   "id": "ddc09c53-ecab-4f4b-b1c3-3504ab4620ad",
   "metadata": {},
   "outputs": [],
   "source": [
    "X_full = data.data\n",
    "y_full = data.target"
   ]
  },
  {
   "cell_type": "markdown",
   "id": "218e3150-3ad3-4fba-9b98-bb4ab16b2b56",
   "metadata": {},
   "source": [
    "Разбейте данные на train и test. Обучите линейную регрессию на train и сделайте предсказание на train и test."
   ]
  },
  {
   "cell_type": "code",
   "execution_count": null,
   "id": "29e2bd16-c150-4bda-9ef4-00983011aef1",
   "metadata": {},
   "outputs": [],
   "source": [
    "# your code here"
   ]
  },
  {
   "cell_type": "markdown",
   "id": "424659c6-5e0e-4ec3-a35e-0f9ec7839670",
   "metadata": {},
   "source": [
    "Выведите MSE на train и на test. Выведите RMSE. На сколько в среднем мы ошибаемся на train и test? Модель переобучена, недообучена или все ок?"
   ]
  },
  {
   "cell_type": "code",
   "execution_count": null,
   "id": "c6aec087-38f9-423c-ab4f-6c03ec2e4701",
   "metadata": {},
   "outputs": [],
   "source": [
    "# your code here"
   ]
  },
  {
   "cell_type": "markdown",
   "id": "84d7aa31-6411-43ee-96d2-066f2ae3f8e5",
   "metadata": {},
   "source": [
    "Нарисуем матрицу корреляций признаков."
   ]
  },
  {
   "cell_type": "code",
   "execution_count": null,
   "id": "32ef4122-5fb2-4ba0-a939-b4f16b3c1f4e",
   "metadata": {},
   "outputs": [],
   "source": [
    "import seaborn as sns\n",
    "\n",
    "data1 = pd.DataFrame(data=np.c_[data['data'], data['target']],\n",
    "                     columns=list(data['feature_names']) + ['target'])\n",
    "\n",
    "plt.figure(figsize=(12,9))\n",
    "\n",
    "corr = data1.corr()\n",
    "\n",
    "sns.heatmap(corr,annot=True,linewidths=.5,fmt= '.2f',\\\n",
    "            mask=np.zeros_like(corr, dtype=np.bool), \\\n",
    "            cmap=sns.diverging_palette(100,200,as_cmap=True), square=True)"
   ]
  },
  {
   "cell_type": "code",
   "execution_count": null,
   "id": "2fd61cd5-539c-4796-bc2c-7d00f2edad88",
   "metadata": {},
   "outputs": [],
   "source": [
    "data1.head()"
   ]
  },
  {
   "cell_type": "markdown",
   "id": "bbee632c-e6bd-4ffd-a820-4d72372ba7e1",
   "metadata": {},
   "source": [
    "Мы можем удалять признаки"
   ]
  },
  {
   "cell_type": "code",
   "execution_count": null,
   "id": "bb128e79-4c32-4592-b0c4-9cb4c10b6133",
   "metadata": {},
   "outputs": [],
   "source": [
    "del data1['RAD']"
   ]
  },
  {
   "cell_type": "markdown",
   "id": "a0b959b5-4b6c-41c3-af27-1a9548d29274",
   "metadata": {},
   "source": [
    "Создавать новые из уже существующих"
   ]
  },
  {
   "cell_type": "code",
   "execution_count": null,
   "id": "1c6dbf87-2fee-44a7-9474-8f9779c38a0f",
   "metadata": {},
   "outputs": [],
   "source": [
    "data1['NEW'] = data1['LSTAT'] ** 2"
   ]
  },
  {
   "cell_type": "markdown",
   "id": "817c4c88-ad01-494c-a6b9-f4cf6c35e492",
   "metadata": {},
   "source": [
    "Посмотрим на новую матрицу объект-признак"
   ]
  },
  {
   "cell_type": "code",
   "execution_count": null,
   "id": "30203278-bf3b-452e-a874-7138bb980810",
   "metadata": {},
   "outputs": [],
   "source": [
    "y = data1['target']\n",
    "\n",
    "X = data1.drop('target', axis=1)\n",
    "\n",
    "X.head()"
   ]
  },
  {
   "cell_type": "markdown",
   "id": "12d5f9f2-9746-4f89-af83-031a37573553",
   "metadata": {},
   "source": [
    "Можем изучить каждый признак в отдельности, изучить его распределение с ЦП"
   ]
  },
  {
   "cell_type": "code",
   "execution_count": null,
   "id": "91100d5c-4363-42cc-bc7d-8cdeda894bff",
   "metadata": {},
   "outputs": [],
   "source": [
    "for c in data1.columns:\n",
    "    if c != 'target':\n",
    "        print(c)\n",
    "        scatter(data1[c], data1['target'])\n",
    "        show()"
   ]
  },
  {
   "cell_type": "markdown",
   "id": "d72edf91-268c-4764-991e-d6a5f0f2d66f",
   "metadata": {},
   "source": [
    "Попробуйте убрать из данных признаки с наименьшей корреляцией с target (1, 2 или 3 признака) и обучить линейную регрессию на оставшихся признаках. Как изменилось качество?"
   ]
  },
  {
   "cell_type": "code",
   "execution_count": null,
   "id": "6965fbec-cd2f-4176-8dc7-5f640f653f6c",
   "metadata": {},
   "outputs": [],
   "source": [
    "#your code here"
   ]
  },
  {
   "cell_type": "markdown",
   "id": "45a61b3d-9fef-4c7e-bc16-b0a7ab79d7d0",
   "metadata": {},
   "source": [
    "# Задание 3. \n",
    "\n",
    "Откроем новый датасет: в нем собрана информация про мобильные телефоны, их характеристики и ценовой диапазон. Посмотрите, какие там есть колонки, прикиньте, что они могут означать. Проверьте, есть ли в этом датасете пропущенные значения. "
   ]
  },
  {
   "cell_type": "code",
   "execution_count": null,
   "id": "642af4c4-2fdc-4cf9-8321-0bc8695ca37c",
   "metadata": {},
   "outputs": [],
   "source": [
    "# your code here"
   ]
  },
  {
   "cell_type": "markdown",
   "id": "7baff0e6-0887-49a7-901a-9dc37802afa7",
   "metadata": {},
   "source": [
    "Сгруппируйте таблицу по колонке \"диапазон цены\", посчитайте средние значения остальных колонок: удостоверимся, что параметры действительно зависят от цены. "
   ]
  },
  {
   "cell_type": "code",
   "execution_count": null,
   "id": "ce2ab76b-2ed2-414f-9c58-97f95537e6bb",
   "metadata": {},
   "outputs": [],
   "source": [
    "# your code here"
   ]
  },
  {
   "cell_type": "markdown",
   "id": "e8e982c1-5aae-4a49-94e9-00be03a29303",
   "metadata": {},
   "source": [
    "Бонус: давайте на графике посмотрим, как взаимодействуют друг с другом телефонные параметры. Попробуйте проанализировать график и понять, что на нем изображено. "
   ]
  },
  {
   "cell_type": "code",
   "execution_count": null,
   "id": "e12fe27c-48b0-4275-86dc-ee8bb0c64171",
   "metadata": {},
   "outputs": [],
   "source": [
    "import seaborn as sns\n",
    "import matplotlib.pyplot as plt\n",
    "\n",
    "plt.figure(figsize=(20, 12))\n",
    "\n",
    "corr = data.corr()\n",
    "sns.heatmap(corr, \n",
    "            annot=True, linewidths=.5, fmt='.2f',\n",
    "            xticklabels=corr.columns.values,\n",
    "            yticklabels=corr.columns.values,\n",
    "            cmap=sns.diverging_palette(100, 200, as_cmap=True), square=True)\n",
    "plt.show()"
   ]
  },
  {
   "cell_type": "markdown",
   "id": "1546d9bd-5981-4f8f-9eed-f686cd5e652d",
   "metadata": {},
   "source": [
    "Задача: поработайте с признаками и обучите линейную регрессию для предсказания цены телефона."
   ]
  }
 ],
 "metadata": {
  "kernelspec": {
   "display_name": "Python 3 (ipykernel)",
   "language": "python",
   "name": "python3"
  },
  "language_info": {
   "codemirror_mode": {
    "name": "ipython",
    "version": 3
   },
   "file_extension": ".py",
   "mimetype": "text/x-python",
   "name": "python",
   "nbconvert_exporter": "python",
   "pygments_lexer": "ipython3",
   "version": "3.9.12"
  }
 },
 "nbformat": 4,
 "nbformat_minor": 5
}
