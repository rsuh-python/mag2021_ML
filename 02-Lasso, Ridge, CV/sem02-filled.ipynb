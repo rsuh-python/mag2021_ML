{
 "cells": [
  {
   "cell_type": "markdown",
   "id": "020e980a-e4f0-4ebf-a04d-930005b75ed4",
   "metadata": {},
   "source": [
    "# Задание 1.\n",
    "\n",
    "Поработаем с датасетом Black Friday. Есть его описание:\n",
    "\n",
    "Description\n",
    "\n",
    "The dataset here is a sample of the transactions made in a retail store. The store wants to know better the customer purchase behaviour against different products. Specifically, here the problem is a regression problem where we are trying to predict the dependent variable (the amount of purchase) with the help of the information contained in the other variables.\n",
    "\n",
    "Classification problem can also be settled in this dataset since several variables are categorical, and some other approaches could be \"Predicting the age of the consumer\" or even \"Predict the category of goods bought\". This dataset is also particularly convenient for clustering and maybe find different clusters of consumers within it."
   ]
  },
  {
   "cell_type": "code",
   "execution_count": 1,
   "id": "28f69d5d-8556-4224-aabb-f21c38e26c27",
   "metadata": {},
   "outputs": [],
   "source": [
    "import pandas as pd\n",
    "import numpy as np\n",
    "from matplotlib import pylab as plt\n",
    "\n",
    "from sklearn.linear_model import LinearRegression, Lasso, Ridge\n",
    "from sklearn.metrics import mean_squared_error, r2_score\n",
    "from sklearn.model_selection import train_test_split\n",
    "from sklearn.preprocessing import StandardScaler"
   ]
  },
  {
   "cell_type": "code",
   "execution_count": 2,
   "id": "b11bf2d2-7959-4111-a547-6fd5df461329",
   "metadata": {},
   "outputs": [
    {
     "data": {
      "text/html": [
       "<div>\n",
       "<style scoped>\n",
       "    .dataframe tbody tr th:only-of-type {\n",
       "        vertical-align: middle;\n",
       "    }\n",
       "\n",
       "    .dataframe tbody tr th {\n",
       "        vertical-align: top;\n",
       "    }\n",
       "\n",
       "    .dataframe thead th {\n",
       "        text-align: right;\n",
       "    }\n",
       "</style>\n",
       "<table border=\"1\" class=\"dataframe\">\n",
       "  <thead>\n",
       "    <tr style=\"text-align: right;\">\n",
       "      <th></th>\n",
       "      <th>User_ID</th>\n",
       "      <th>Product_ID</th>\n",
       "      <th>Gender</th>\n",
       "      <th>Age</th>\n",
       "      <th>Occupation</th>\n",
       "      <th>City_Category</th>\n",
       "      <th>Stay_In_Current_City_Years</th>\n",
       "      <th>Marital_Status</th>\n",
       "      <th>Product_Category_1</th>\n",
       "      <th>Product_Category_2</th>\n",
       "      <th>Product_Category_3</th>\n",
       "      <th>Purchase</th>\n",
       "    </tr>\n",
       "  </thead>\n",
       "  <tbody>\n",
       "    <tr>\n",
       "      <th>0</th>\n",
       "      <td>1000001</td>\n",
       "      <td>P00069042</td>\n",
       "      <td>F</td>\n",
       "      <td>0-17</td>\n",
       "      <td>10</td>\n",
       "      <td>A</td>\n",
       "      <td>2</td>\n",
       "      <td>0</td>\n",
       "      <td>3</td>\n",
       "      <td>NaN</td>\n",
       "      <td>NaN</td>\n",
       "      <td>8370</td>\n",
       "    </tr>\n",
       "    <tr>\n",
       "      <th>1</th>\n",
       "      <td>1000001</td>\n",
       "      <td>P00248942</td>\n",
       "      <td>F</td>\n",
       "      <td>0-17</td>\n",
       "      <td>10</td>\n",
       "      <td>A</td>\n",
       "      <td>2</td>\n",
       "      <td>0</td>\n",
       "      <td>1</td>\n",
       "      <td>6.0</td>\n",
       "      <td>14.0</td>\n",
       "      <td>15200</td>\n",
       "    </tr>\n",
       "    <tr>\n",
       "      <th>2</th>\n",
       "      <td>1000001</td>\n",
       "      <td>P00087842</td>\n",
       "      <td>F</td>\n",
       "      <td>0-17</td>\n",
       "      <td>10</td>\n",
       "      <td>A</td>\n",
       "      <td>2</td>\n",
       "      <td>0</td>\n",
       "      <td>12</td>\n",
       "      <td>NaN</td>\n",
       "      <td>NaN</td>\n",
       "      <td>1422</td>\n",
       "    </tr>\n",
       "    <tr>\n",
       "      <th>3</th>\n",
       "      <td>1000001</td>\n",
       "      <td>P00085442</td>\n",
       "      <td>F</td>\n",
       "      <td>0-17</td>\n",
       "      <td>10</td>\n",
       "      <td>A</td>\n",
       "      <td>2</td>\n",
       "      <td>0</td>\n",
       "      <td>12</td>\n",
       "      <td>14.0</td>\n",
       "      <td>NaN</td>\n",
       "      <td>1057</td>\n",
       "    </tr>\n",
       "    <tr>\n",
       "      <th>4</th>\n",
       "      <td>1000002</td>\n",
       "      <td>P00285442</td>\n",
       "      <td>M</td>\n",
       "      <td>55+</td>\n",
       "      <td>16</td>\n",
       "      <td>C</td>\n",
       "      <td>4+</td>\n",
       "      <td>0</td>\n",
       "      <td>8</td>\n",
       "      <td>NaN</td>\n",
       "      <td>NaN</td>\n",
       "      <td>7969</td>\n",
       "    </tr>\n",
       "  </tbody>\n",
       "</table>\n",
       "</div>"
      ],
      "text/plain": [
       "   User_ID Product_ID Gender   Age  Occupation City_Category  \\\n",
       "0  1000001  P00069042      F  0-17          10             A   \n",
       "1  1000001  P00248942      F  0-17          10             A   \n",
       "2  1000001  P00087842      F  0-17          10             A   \n",
       "3  1000001  P00085442      F  0-17          10             A   \n",
       "4  1000002  P00285442      M   55+          16             C   \n",
       "\n",
       "  Stay_In_Current_City_Years  Marital_Status  Product_Category_1  \\\n",
       "0                          2               0                   3   \n",
       "1                          2               0                   1   \n",
       "2                          2               0                  12   \n",
       "3                          2               0                  12   \n",
       "4                         4+               0                   8   \n",
       "\n",
       "   Product_Category_2  Product_Category_3  Purchase  \n",
       "0                 NaN                 NaN      8370  \n",
       "1                 6.0                14.0     15200  \n",
       "2                 NaN                 NaN      1422  \n",
       "3                14.0                 NaN      1057  \n",
       "4                 NaN                 NaN      7969  "
      ]
     },
     "execution_count": 2,
     "metadata": {},
     "output_type": "execute_result"
    }
   ],
   "source": [
    "data = pd.read_csv('BlackFriday.csv')\n",
    "data.head()"
   ]
  },
  {
   "cell_type": "markdown",
   "id": "0b823936-3eaf-48ec-a973-c838580492ef",
   "metadata": {},
   "source": [
    "# Подготовка данных"
   ]
  },
  {
   "cell_type": "code",
   "execution_count": 3,
   "id": "f6f709f6-6dde-4b02-a9dc-bce92620166e",
   "metadata": {},
   "outputs": [
    {
     "name": "stdout",
     "output_type": "stream",
     "text": [
      "Product_Category_3    69.441029\n",
      "Product_Category_2    31.062713\n",
      "dtype: float64 %\n"
     ]
    }
   ],
   "source": [
    "missing_values = data.isnull().sum().sort_values(ascending = False)\n",
    "missing_values = missing_values[missing_values > 0]/data.shape[0]\n",
    "print(f'{missing_values *100} %')"
   ]
  },
  {
   "cell_type": "markdown",
   "id": "79168dc5-e64d-4763-b6e7-9d72b0d4515b",
   "metadata": {},
   "source": [
    "Скорее всего NaN-ы в Product_Category_2 и Product_Category_3 означают, что человек не покупал продукты из этих категорий.\n",
    "\n",
    "Поэтому можем заменить эти пропущенные значения на 0."
   ]
  },
  {
   "cell_type": "code",
   "execution_count": 4,
   "id": "f0dd6043-3aa8-4746-a4c3-6dca24c5b315",
   "metadata": {},
   "outputs": [],
   "source": [
    "data = data.fillna(0)"
   ]
  },
  {
   "cell_type": "code",
   "execution_count": 5,
   "id": "455f366b-0233-46d5-8648-07ea8cc51f76",
   "metadata": {},
   "outputs": [
    {
     "data": {
      "text/plain": [
       "(537577, 12)"
      ]
     },
     "execution_count": 5,
     "metadata": {},
     "output_type": "execute_result"
    }
   ],
   "source": [
    "data.shape"
   ]
  },
  {
   "cell_type": "code",
   "execution_count": 6,
   "id": "39498e82-d93d-4d69-a635-2749d24d2684",
   "metadata": {},
   "outputs": [
    {
     "name": "stdout",
     "output_type": "stream",
     "text": [
      "Series([], dtype: float64) %\n"
     ]
    }
   ],
   "source": [
    "missing_values = data.isnull().sum().sort_values(ascending = False)\n",
    "missing_values = missing_values[missing_values > 0]/data.shape[0]\n",
    "print(f'{missing_values *100} %')"
   ]
  },
  {
   "cell_type": "markdown",
   "id": "a3a0c7de-7b2f-4b38-bbf3-7deefcb3fccc",
   "metadata": {},
   "source": [
    "Посмотрим, какие типы данных есть в нашем датасете. \n",
    "\n",
    "Выведите на экран тип каждой колонки в таблице."
   ]
  },
  {
   "cell_type": "code",
   "execution_count": 7,
   "id": "e929286a-3626-42bb-9f95-77b9acb84a35",
   "metadata": {},
   "outputs": [
    {
     "data": {
      "text/plain": [
       "User_ID                         int64\n",
       "Product_ID                     object\n",
       "Gender                         object\n",
       "Age                            object\n",
       "Occupation                      int64\n",
       "City_Category                  object\n",
       "Stay_In_Current_City_Years     object\n",
       "Marital_Status                  int64\n",
       "Product_Category_1              int64\n",
       "Product_Category_2            float64\n",
       "Product_Category_3            float64\n",
       "Purchase                        int64\n",
       "dtype: object"
      ]
     },
     "execution_count": 7,
     "metadata": {},
     "output_type": "execute_result"
    }
   ],
   "source": [
    "#your code here\n",
    "data.dtypes"
   ]
  },
  {
   "cell_type": "markdown",
   "id": "1070b270-ffc1-4040-9328-eb6e6b6a5f50",
   "metadata": {},
   "source": [
    "Обработаем нечисловые колонки.\n",
    "\n",
    "1) Выведите на экран все возможные значения из столбца Gender.\n",
    "\n",
    "2) Замените значение 'M' на 1, а 'F' на 0."
   ]
  },
  {
   "cell_type": "code",
   "execution_count": 9,
   "id": "3e2ae1b2-8973-4a77-bbc7-aefa7f9696af",
   "metadata": {},
   "outputs": [],
   "source": [
    "#your code here\n",
    "data.Gender = data.Gender.apply(lambda x: 1 if x == 'M' else 0)\n",
    "# set(data.Gender)"
   ]
  },
  {
   "cell_type": "markdown",
   "id": "edfde771-d27a-42f4-8100-97c254b9ee12",
   "metadata": {},
   "source": [
    "Поработаем со столбцом Age.\n",
    "\n",
    "1) Выведите на экран все возможные значения из столбца Age.\n",
    "\n",
    "2) Напишите функцию для перевода каждого диапазона возрастов в число (самые маленькие возрасты - 0, следующий диапазон - 1 и т.д.). Замените значения в столбце Age на числовые, применив эту функцию."
   ]
  },
  {
   "cell_type": "code",
   "execution_count": 11,
   "id": "cbd81e97-dabb-486b-9dd5-1be409ebaac3",
   "metadata": {
    "scrolled": true
   },
   "outputs": [
    {
     "data": {
      "text/html": [
       "<div>\n",
       "<style scoped>\n",
       "    .dataframe tbody tr th:only-of-type {\n",
       "        vertical-align: middle;\n",
       "    }\n",
       "\n",
       "    .dataframe tbody tr th {\n",
       "        vertical-align: top;\n",
       "    }\n",
       "\n",
       "    .dataframe thead th {\n",
       "        text-align: right;\n",
       "    }\n",
       "</style>\n",
       "<table border=\"1\" class=\"dataframe\">\n",
       "  <thead>\n",
       "    <tr style=\"text-align: right;\">\n",
       "      <th></th>\n",
       "      <th>User_ID</th>\n",
       "      <th>Product_ID</th>\n",
       "      <th>Gender</th>\n",
       "      <th>Age</th>\n",
       "      <th>Occupation</th>\n",
       "      <th>City_Category</th>\n",
       "      <th>Stay_In_Current_City_Years</th>\n",
       "      <th>Marital_Status</th>\n",
       "      <th>Product_Category_1</th>\n",
       "      <th>Product_Category_2</th>\n",
       "      <th>Product_Category_3</th>\n",
       "      <th>Purchase</th>\n",
       "    </tr>\n",
       "  </thead>\n",
       "  <tbody>\n",
       "    <tr>\n",
       "      <th>0</th>\n",
       "      <td>1000001</td>\n",
       "      <td>P00069042</td>\n",
       "      <td>0</td>\n",
       "      <td>0</td>\n",
       "      <td>10</td>\n",
       "      <td>A</td>\n",
       "      <td>2</td>\n",
       "      <td>0</td>\n",
       "      <td>3</td>\n",
       "      <td>0.0</td>\n",
       "      <td>0.0</td>\n",
       "      <td>8370</td>\n",
       "    </tr>\n",
       "    <tr>\n",
       "      <th>1</th>\n",
       "      <td>1000001</td>\n",
       "      <td>P00248942</td>\n",
       "      <td>0</td>\n",
       "      <td>0</td>\n",
       "      <td>10</td>\n",
       "      <td>A</td>\n",
       "      <td>2</td>\n",
       "      <td>0</td>\n",
       "      <td>1</td>\n",
       "      <td>6.0</td>\n",
       "      <td>14.0</td>\n",
       "      <td>15200</td>\n",
       "    </tr>\n",
       "    <tr>\n",
       "      <th>2</th>\n",
       "      <td>1000001</td>\n",
       "      <td>P00087842</td>\n",
       "      <td>0</td>\n",
       "      <td>0</td>\n",
       "      <td>10</td>\n",
       "      <td>A</td>\n",
       "      <td>2</td>\n",
       "      <td>0</td>\n",
       "      <td>12</td>\n",
       "      <td>0.0</td>\n",
       "      <td>0.0</td>\n",
       "      <td>1422</td>\n",
       "    </tr>\n",
       "    <tr>\n",
       "      <th>3</th>\n",
       "      <td>1000001</td>\n",
       "      <td>P00085442</td>\n",
       "      <td>0</td>\n",
       "      <td>0</td>\n",
       "      <td>10</td>\n",
       "      <td>A</td>\n",
       "      <td>2</td>\n",
       "      <td>0</td>\n",
       "      <td>12</td>\n",
       "      <td>14.0</td>\n",
       "      <td>0.0</td>\n",
       "      <td>1057</td>\n",
       "    </tr>\n",
       "    <tr>\n",
       "      <th>4</th>\n",
       "      <td>1000002</td>\n",
       "      <td>P00285442</td>\n",
       "      <td>1</td>\n",
       "      <td>6</td>\n",
       "      <td>16</td>\n",
       "      <td>C</td>\n",
       "      <td>4+</td>\n",
       "      <td>0</td>\n",
       "      <td>8</td>\n",
       "      <td>0.0</td>\n",
       "      <td>0.0</td>\n",
       "      <td>7969</td>\n",
       "    </tr>\n",
       "  </tbody>\n",
       "</table>\n",
       "</div>"
      ],
      "text/plain": [
       "   User_ID Product_ID  Gender  Age  Occupation City_Category  \\\n",
       "0  1000001  P00069042       0    0          10             A   \n",
       "1  1000001  P00248942       0    0          10             A   \n",
       "2  1000001  P00087842       0    0          10             A   \n",
       "3  1000001  P00085442       0    0          10             A   \n",
       "4  1000002  P00285442       1    6          16             C   \n",
       "\n",
       "  Stay_In_Current_City_Years  Marital_Status  Product_Category_1  \\\n",
       "0                          2               0                   3   \n",
       "1                          2               0                   1   \n",
       "2                          2               0                  12   \n",
       "3                          2               0                  12   \n",
       "4                         4+               0                   8   \n",
       "\n",
       "   Product_Category_2  Product_Category_3  Purchase  \n",
       "0                 0.0                 0.0      8370  \n",
       "1                 6.0                14.0     15200  \n",
       "2                 0.0                 0.0      1422  \n",
       "3                14.0                 0.0      1057  \n",
       "4                 0.0                 0.0      7969  "
      ]
     },
     "execution_count": 11,
     "metadata": {},
     "output_type": "execute_result"
    }
   ],
   "source": [
    "set(data.Age)\n",
    "#your code here\n",
    "\n",
    "def map_age(age):\n",
    "    res = {'0-17': 0, '18-25': 1, '26-35': 2, '36-45': 3, '46-50': 4, '51-55': 5, '55+': 6}\n",
    "    return res[age]\n",
    "    #your code here\n",
    "    \n",
    "data['Age'] = data['Age'].apply(map_age)\n",
    "data.head()"
   ]
  },
  {
   "cell_type": "markdown",
   "id": "7f2191dc-e3c7-42ec-ba9d-15dcab13d4c5",
   "metadata": {},
   "source": [
    "Обработаем столбец City_Category.\n",
    "\n",
    "1) Выведите все уникальные значения данного столбца.\n",
    "\n",
    "2) Закодируйте столбец с помощью OneHotEncoding (get_dummies)."
   ]
  },
  {
   "cell_type": "code",
   "execution_count": 12,
   "id": "b6ddd92a-eba6-4bc6-a704-5abca45455f9",
   "metadata": {
    "scrolled": true
   },
   "outputs": [
    {
     "data": {
      "text/html": [
       "<div>\n",
       "<style scoped>\n",
       "    .dataframe tbody tr th:only-of-type {\n",
       "        vertical-align: middle;\n",
       "    }\n",
       "\n",
       "    .dataframe tbody tr th {\n",
       "        vertical-align: top;\n",
       "    }\n",
       "\n",
       "    .dataframe thead th {\n",
       "        text-align: right;\n",
       "    }\n",
       "</style>\n",
       "<table border=\"1\" class=\"dataframe\">\n",
       "  <thead>\n",
       "    <tr style=\"text-align: right;\">\n",
       "      <th></th>\n",
       "      <th>User_ID</th>\n",
       "      <th>Product_ID</th>\n",
       "      <th>Gender</th>\n",
       "      <th>Age</th>\n",
       "      <th>Occupation</th>\n",
       "      <th>Stay_In_Current_City_Years</th>\n",
       "      <th>Marital_Status</th>\n",
       "      <th>Product_Category_1</th>\n",
       "      <th>Product_Category_2</th>\n",
       "      <th>Product_Category_3</th>\n",
       "      <th>Purchase</th>\n",
       "      <th>City_Category_B</th>\n",
       "      <th>City_Category_C</th>\n",
       "    </tr>\n",
       "  </thead>\n",
       "  <tbody>\n",
       "    <tr>\n",
       "      <th>0</th>\n",
       "      <td>1000001</td>\n",
       "      <td>P00069042</td>\n",
       "      <td>0</td>\n",
       "      <td>0</td>\n",
       "      <td>10</td>\n",
       "      <td>2</td>\n",
       "      <td>0</td>\n",
       "      <td>3</td>\n",
       "      <td>0.0</td>\n",
       "      <td>0.0</td>\n",
       "      <td>8370</td>\n",
       "      <td>0</td>\n",
       "      <td>0</td>\n",
       "    </tr>\n",
       "    <tr>\n",
       "      <th>1</th>\n",
       "      <td>1000001</td>\n",
       "      <td>P00248942</td>\n",
       "      <td>0</td>\n",
       "      <td>0</td>\n",
       "      <td>10</td>\n",
       "      <td>2</td>\n",
       "      <td>0</td>\n",
       "      <td>1</td>\n",
       "      <td>6.0</td>\n",
       "      <td>14.0</td>\n",
       "      <td>15200</td>\n",
       "      <td>0</td>\n",
       "      <td>0</td>\n",
       "    </tr>\n",
       "    <tr>\n",
       "      <th>2</th>\n",
       "      <td>1000001</td>\n",
       "      <td>P00087842</td>\n",
       "      <td>0</td>\n",
       "      <td>0</td>\n",
       "      <td>10</td>\n",
       "      <td>2</td>\n",
       "      <td>0</td>\n",
       "      <td>12</td>\n",
       "      <td>0.0</td>\n",
       "      <td>0.0</td>\n",
       "      <td>1422</td>\n",
       "      <td>0</td>\n",
       "      <td>0</td>\n",
       "    </tr>\n",
       "    <tr>\n",
       "      <th>3</th>\n",
       "      <td>1000001</td>\n",
       "      <td>P00085442</td>\n",
       "      <td>0</td>\n",
       "      <td>0</td>\n",
       "      <td>10</td>\n",
       "      <td>2</td>\n",
       "      <td>0</td>\n",
       "      <td>12</td>\n",
       "      <td>14.0</td>\n",
       "      <td>0.0</td>\n",
       "      <td>1057</td>\n",
       "      <td>0</td>\n",
       "      <td>0</td>\n",
       "    </tr>\n",
       "    <tr>\n",
       "      <th>4</th>\n",
       "      <td>1000002</td>\n",
       "      <td>P00285442</td>\n",
       "      <td>1</td>\n",
       "      <td>6</td>\n",
       "      <td>16</td>\n",
       "      <td>4+</td>\n",
       "      <td>0</td>\n",
       "      <td>8</td>\n",
       "      <td>0.0</td>\n",
       "      <td>0.0</td>\n",
       "      <td>7969</td>\n",
       "      <td>0</td>\n",
       "      <td>1</td>\n",
       "    </tr>\n",
       "  </tbody>\n",
       "</table>\n",
       "</div>"
      ],
      "text/plain": [
       "   User_ID Product_ID  Gender  Age  Occupation Stay_In_Current_City_Years  \\\n",
       "0  1000001  P00069042       0    0          10                          2   \n",
       "1  1000001  P00248942       0    0          10                          2   \n",
       "2  1000001  P00087842       0    0          10                          2   \n",
       "3  1000001  P00085442       0    0          10                          2   \n",
       "4  1000002  P00285442       1    6          16                         4+   \n",
       "\n",
       "   Marital_Status  Product_Category_1  Product_Category_2  Product_Category_3  \\\n",
       "0               0                   3                 0.0                 0.0   \n",
       "1               0                   1                 6.0                14.0   \n",
       "2               0                  12                 0.0                 0.0   \n",
       "3               0                  12                14.0                 0.0   \n",
       "4               0                   8                 0.0                 0.0   \n",
       "\n",
       "   Purchase  City_Category_B  City_Category_C  \n",
       "0      8370                0                0  \n",
       "1     15200                0                0  \n",
       "2      1422                0                0  \n",
       "3      1057                0                0  \n",
       "4      7969                0                1  "
      ]
     },
     "execution_count": 12,
     "metadata": {},
     "output_type": "execute_result"
    }
   ],
   "source": [
    "#your code here\n",
    "data = pd.get_dummies(data, columns=['City_Category'], drop_first=True)\n",
    "data.head()"
   ]
  },
  {
   "cell_type": "code",
   "execution_count": 14,
   "id": "cb63ef52-a95f-48f6-ac6b-5661b3e47a3f",
   "metadata": {},
   "outputs": [
    {
     "data": {
      "text/plain": [
       "{'0', '1', '2', '3', '4+'}"
      ]
     },
     "execution_count": 14,
     "metadata": {},
     "output_type": "execute_result"
    }
   ],
   "source": [
    "set(data.Stay_In_Current_City_Years)"
   ]
  },
  {
   "cell_type": "markdown",
   "id": "955cee90-ac98-4327-85e8-e8cf975c9d74",
   "metadata": {},
   "source": [
    "Наконец, обработаем Stay_In_Current_City_Years.\n",
    "\n",
    "1) Выведите на экран все уникальные значения данного столбца.\n",
    "\n",
    "2) Замените '4+' на 4, а все остальные значения оставьте как есть, но переведите их в числовой вид (x -> int(x))."
   ]
  },
  {
   "cell_type": "code",
   "execution_count": 15,
   "id": "2a7c3112-7976-40f9-aa74-a70f3c46a753",
   "metadata": {},
   "outputs": [],
   "source": [
    "#your code here\n",
    "\n",
    "def map_stay(years):\n",
    "    return int(years.strip('+'))\n",
    "    \n",
    "data['Stay_In_Current_City_Years'] = data['Stay_In_Current_City_Years'].apply(map_stay)"
   ]
  },
  {
   "cell_type": "code",
   "execution_count": 17,
   "id": "c5ff6392-b3ce-48c7-b512-e38d7a638c25",
   "metadata": {},
   "outputs": [
    {
     "data": {
      "text/plain": [
       "User_ID                         int64\n",
       "Product_ID                     object\n",
       "Gender                          int64\n",
       "Age                             int64\n",
       "Occupation                      int64\n",
       "Stay_In_Current_City_Years      int64\n",
       "Marital_Status                  int64\n",
       "Product_Category_1              int64\n",
       "Product_Category_2            float64\n",
       "Product_Category_3            float64\n",
       "Purchase                        int64\n",
       "City_Category_B                 uint8\n",
       "City_Category_C                 uint8\n",
       "dtype: object"
      ]
     },
     "execution_count": 17,
     "metadata": {},
     "output_type": "execute_result"
    }
   ],
   "source": [
    "data.dtypes"
   ]
  },
  {
   "cell_type": "code",
   "execution_count": 16,
   "id": "ce7237e7-be0f-4990-b038-874f2042e8c4",
   "metadata": {},
   "outputs": [
    {
     "data": {
      "text/html": [
       "<div>\n",
       "<style scoped>\n",
       "    .dataframe tbody tr th:only-of-type {\n",
       "        vertical-align: middle;\n",
       "    }\n",
       "\n",
       "    .dataframe tbody tr th {\n",
       "        vertical-align: top;\n",
       "    }\n",
       "\n",
       "    .dataframe thead th {\n",
       "        text-align: right;\n",
       "    }\n",
       "</style>\n",
       "<table border=\"1\" class=\"dataframe\">\n",
       "  <thead>\n",
       "    <tr style=\"text-align: right;\">\n",
       "      <th></th>\n",
       "      <th>User_ID</th>\n",
       "      <th>Product_ID</th>\n",
       "      <th>Gender</th>\n",
       "      <th>Age</th>\n",
       "      <th>Occupation</th>\n",
       "      <th>Stay_In_Current_City_Years</th>\n",
       "      <th>Marital_Status</th>\n",
       "      <th>Product_Category_1</th>\n",
       "      <th>Product_Category_2</th>\n",
       "      <th>Product_Category_3</th>\n",
       "      <th>Purchase</th>\n",
       "      <th>City_Category_B</th>\n",
       "      <th>City_Category_C</th>\n",
       "    </tr>\n",
       "  </thead>\n",
       "  <tbody>\n",
       "    <tr>\n",
       "      <th>0</th>\n",
       "      <td>1000001</td>\n",
       "      <td>P00069042</td>\n",
       "      <td>0</td>\n",
       "      <td>0</td>\n",
       "      <td>10</td>\n",
       "      <td>2</td>\n",
       "      <td>0</td>\n",
       "      <td>3</td>\n",
       "      <td>0.0</td>\n",
       "      <td>0.0</td>\n",
       "      <td>8370</td>\n",
       "      <td>0</td>\n",
       "      <td>0</td>\n",
       "    </tr>\n",
       "    <tr>\n",
       "      <th>1</th>\n",
       "      <td>1000001</td>\n",
       "      <td>P00248942</td>\n",
       "      <td>0</td>\n",
       "      <td>0</td>\n",
       "      <td>10</td>\n",
       "      <td>2</td>\n",
       "      <td>0</td>\n",
       "      <td>1</td>\n",
       "      <td>6.0</td>\n",
       "      <td>14.0</td>\n",
       "      <td>15200</td>\n",
       "      <td>0</td>\n",
       "      <td>0</td>\n",
       "    </tr>\n",
       "    <tr>\n",
       "      <th>2</th>\n",
       "      <td>1000001</td>\n",
       "      <td>P00087842</td>\n",
       "      <td>0</td>\n",
       "      <td>0</td>\n",
       "      <td>10</td>\n",
       "      <td>2</td>\n",
       "      <td>0</td>\n",
       "      <td>12</td>\n",
       "      <td>0.0</td>\n",
       "      <td>0.0</td>\n",
       "      <td>1422</td>\n",
       "      <td>0</td>\n",
       "      <td>0</td>\n",
       "    </tr>\n",
       "    <tr>\n",
       "      <th>3</th>\n",
       "      <td>1000001</td>\n",
       "      <td>P00085442</td>\n",
       "      <td>0</td>\n",
       "      <td>0</td>\n",
       "      <td>10</td>\n",
       "      <td>2</td>\n",
       "      <td>0</td>\n",
       "      <td>12</td>\n",
       "      <td>14.0</td>\n",
       "      <td>0.0</td>\n",
       "      <td>1057</td>\n",
       "      <td>0</td>\n",
       "      <td>0</td>\n",
       "    </tr>\n",
       "    <tr>\n",
       "      <th>4</th>\n",
       "      <td>1000002</td>\n",
       "      <td>P00285442</td>\n",
       "      <td>1</td>\n",
       "      <td>6</td>\n",
       "      <td>16</td>\n",
       "      <td>4</td>\n",
       "      <td>0</td>\n",
       "      <td>8</td>\n",
       "      <td>0.0</td>\n",
       "      <td>0.0</td>\n",
       "      <td>7969</td>\n",
       "      <td>0</td>\n",
       "      <td>1</td>\n",
       "    </tr>\n",
       "  </tbody>\n",
       "</table>\n",
       "</div>"
      ],
      "text/plain": [
       "   User_ID Product_ID  Gender  Age  Occupation  Stay_In_Current_City_Years  \\\n",
       "0  1000001  P00069042       0    0          10                           2   \n",
       "1  1000001  P00248942       0    0          10                           2   \n",
       "2  1000001  P00087842       0    0          10                           2   \n",
       "3  1000001  P00085442       0    0          10                           2   \n",
       "4  1000002  P00285442       1    6          16                           4   \n",
       "\n",
       "   Marital_Status  Product_Category_1  Product_Category_2  Product_Category_3  \\\n",
       "0               0                   3                 0.0                 0.0   \n",
       "1               0                   1                 6.0                14.0   \n",
       "2               0                  12                 0.0                 0.0   \n",
       "3               0                  12                14.0                 0.0   \n",
       "4               0                   8                 0.0                 0.0   \n",
       "\n",
       "   Purchase  City_Category_B  City_Category_C  \n",
       "0      8370                0                0  \n",
       "1     15200                0                0  \n",
       "2      1422                0                0  \n",
       "3      1057                0                0  \n",
       "4      7969                0                1  "
      ]
     },
     "execution_count": 16,
     "metadata": {},
     "output_type": "execute_result"
    }
   ],
   "source": [
    "data.head()"
   ]
  },
  {
   "cell_type": "markdown",
   "id": "ebaee0bf-207d-4b6e-92cc-69b2bac51961",
   "metadata": {},
   "source": [
    "Удалим столбцы User_ID и Product_ID."
   ]
  },
  {
   "cell_type": "code",
   "execution_count": 18,
   "id": "37ef60ab-9650-4682-abf8-b2bb17acdfa8",
   "metadata": {},
   "outputs": [],
   "source": [
    "data.drop(['User_ID', 'Product_ID'], axis=1, inplace=True)"
   ]
  },
  {
   "cell_type": "code",
   "execution_count": 19,
   "id": "7b0217b5-9ce9-4f8b-bb90-e45eb18ac56d",
   "metadata": {},
   "outputs": [
    {
     "data": {
      "text/html": [
       "<div>\n",
       "<style scoped>\n",
       "    .dataframe tbody tr th:only-of-type {\n",
       "        vertical-align: middle;\n",
       "    }\n",
       "\n",
       "    .dataframe tbody tr th {\n",
       "        vertical-align: top;\n",
       "    }\n",
       "\n",
       "    .dataframe thead th {\n",
       "        text-align: right;\n",
       "    }\n",
       "</style>\n",
       "<table border=\"1\" class=\"dataframe\">\n",
       "  <thead>\n",
       "    <tr style=\"text-align: right;\">\n",
       "      <th></th>\n",
       "      <th>Gender</th>\n",
       "      <th>Age</th>\n",
       "      <th>Occupation</th>\n",
       "      <th>Stay_In_Current_City_Years</th>\n",
       "      <th>Marital_Status</th>\n",
       "      <th>Product_Category_1</th>\n",
       "      <th>Product_Category_2</th>\n",
       "      <th>Product_Category_3</th>\n",
       "      <th>Purchase</th>\n",
       "      <th>City_Category_B</th>\n",
       "      <th>City_Category_C</th>\n",
       "    </tr>\n",
       "  </thead>\n",
       "  <tbody>\n",
       "    <tr>\n",
       "      <th>0</th>\n",
       "      <td>0</td>\n",
       "      <td>0</td>\n",
       "      <td>10</td>\n",
       "      <td>2</td>\n",
       "      <td>0</td>\n",
       "      <td>3</td>\n",
       "      <td>0.0</td>\n",
       "      <td>0.0</td>\n",
       "      <td>8370</td>\n",
       "      <td>0</td>\n",
       "      <td>0</td>\n",
       "    </tr>\n",
       "    <tr>\n",
       "      <th>1</th>\n",
       "      <td>0</td>\n",
       "      <td>0</td>\n",
       "      <td>10</td>\n",
       "      <td>2</td>\n",
       "      <td>0</td>\n",
       "      <td>1</td>\n",
       "      <td>6.0</td>\n",
       "      <td>14.0</td>\n",
       "      <td>15200</td>\n",
       "      <td>0</td>\n",
       "      <td>0</td>\n",
       "    </tr>\n",
       "    <tr>\n",
       "      <th>2</th>\n",
       "      <td>0</td>\n",
       "      <td>0</td>\n",
       "      <td>10</td>\n",
       "      <td>2</td>\n",
       "      <td>0</td>\n",
       "      <td>12</td>\n",
       "      <td>0.0</td>\n",
       "      <td>0.0</td>\n",
       "      <td>1422</td>\n",
       "      <td>0</td>\n",
       "      <td>0</td>\n",
       "    </tr>\n",
       "    <tr>\n",
       "      <th>3</th>\n",
       "      <td>0</td>\n",
       "      <td>0</td>\n",
       "      <td>10</td>\n",
       "      <td>2</td>\n",
       "      <td>0</td>\n",
       "      <td>12</td>\n",
       "      <td>14.0</td>\n",
       "      <td>0.0</td>\n",
       "      <td>1057</td>\n",
       "      <td>0</td>\n",
       "      <td>0</td>\n",
       "    </tr>\n",
       "    <tr>\n",
       "      <th>4</th>\n",
       "      <td>1</td>\n",
       "      <td>6</td>\n",
       "      <td>16</td>\n",
       "      <td>4</td>\n",
       "      <td>0</td>\n",
       "      <td>8</td>\n",
       "      <td>0.0</td>\n",
       "      <td>0.0</td>\n",
       "      <td>7969</td>\n",
       "      <td>0</td>\n",
       "      <td>1</td>\n",
       "    </tr>\n",
       "  </tbody>\n",
       "</table>\n",
       "</div>"
      ],
      "text/plain": [
       "   Gender  Age  Occupation  Stay_In_Current_City_Years  Marital_Status  \\\n",
       "0       0    0          10                           2               0   \n",
       "1       0    0          10                           2               0   \n",
       "2       0    0          10                           2               0   \n",
       "3       0    0          10                           2               0   \n",
       "4       1    6          16                           4               0   \n",
       "\n",
       "   Product_Category_1  Product_Category_2  Product_Category_3  Purchase  \\\n",
       "0                   3                 0.0                 0.0      8370   \n",
       "1                   1                 6.0                14.0     15200   \n",
       "2                  12                 0.0                 0.0      1422   \n",
       "3                  12                14.0                 0.0      1057   \n",
       "4                   8                 0.0                 0.0      7969   \n",
       "\n",
       "   City_Category_B  City_Category_C  \n",
       "0                0                0  \n",
       "1                0                0  \n",
       "2                0                0  \n",
       "3                0                0  \n",
       "4                0                1  "
      ]
     },
     "execution_count": 19,
     "metadata": {},
     "output_type": "execute_result"
    }
   ],
   "source": [
    "data.head()"
   ]
  },
  {
   "cell_type": "code",
   "execution_count": 20,
   "id": "49b9e539-795f-4490-947f-f074c88f36b9",
   "metadata": {},
   "outputs": [
    {
     "data": {
      "text/html": [
       "<div>\n",
       "<style scoped>\n",
       "    .dataframe tbody tr th:only-of-type {\n",
       "        vertical-align: middle;\n",
       "    }\n",
       "\n",
       "    .dataframe tbody tr th {\n",
       "        vertical-align: top;\n",
       "    }\n",
       "\n",
       "    .dataframe thead th {\n",
       "        text-align: right;\n",
       "    }\n",
       "</style>\n",
       "<table border=\"1\" class=\"dataframe\">\n",
       "  <thead>\n",
       "    <tr style=\"text-align: right;\">\n",
       "      <th></th>\n",
       "      <th>Gender</th>\n",
       "      <th>Age</th>\n",
       "      <th>Occupation</th>\n",
       "      <th>Stay_In_Current_City_Years</th>\n",
       "      <th>Marital_Status</th>\n",
       "      <th>Product_Category_1</th>\n",
       "      <th>Product_Category_2</th>\n",
       "      <th>Product_Category_3</th>\n",
       "      <th>Purchase</th>\n",
       "      <th>City_Category_B</th>\n",
       "      <th>City_Category_C</th>\n",
       "    </tr>\n",
       "  </thead>\n",
       "  <tbody>\n",
       "    <tr>\n",
       "      <th>Gender</th>\n",
       "      <td>1.000000</td>\n",
       "      <td>-0.004413</td>\n",
       "      <td>0.117294</td>\n",
       "      <td>0.015392</td>\n",
       "      <td>-0.010379</td>\n",
       "      <td>-0.045661</td>\n",
       "      <td>-0.001580</td>\n",
       "      <td>0.035813</td>\n",
       "      <td>0.060086</td>\n",
       "      <td>-0.006968</td>\n",
       "      <td>0.000329</td>\n",
       "    </tr>\n",
       "    <tr>\n",
       "      <th>Age</th>\n",
       "      <td>-0.004413</td>\n",
       "      <td>1.000000</td>\n",
       "      <td>0.091898</td>\n",
       "      <td>-0.004754</td>\n",
       "      <td>0.312079</td>\n",
       "      <td>0.061951</td>\n",
       "      <td>0.019723</td>\n",
       "      <td>-0.006922</td>\n",
       "      <td>0.017717</td>\n",
       "      <td>-0.017499</td>\n",
       "      <td>0.109821</td>\n",
       "    </tr>\n",
       "    <tr>\n",
       "      <th>Occupation</th>\n",
       "      <td>0.117294</td>\n",
       "      <td>0.091898</td>\n",
       "      <td>1.000000</td>\n",
       "      <td>0.031203</td>\n",
       "      <td>0.024691</td>\n",
       "      <td>-0.008114</td>\n",
       "      <td>0.006792</td>\n",
       "      <td>0.011941</td>\n",
       "      <td>0.021104</td>\n",
       "      <td>-0.014317</td>\n",
       "      <td>0.035396</td>\n",
       "    </tr>\n",
       "    <tr>\n",
       "      <th>Stay_In_Current_City_Years</th>\n",
       "      <td>0.015392</td>\n",
       "      <td>-0.004754</td>\n",
       "      <td>0.031203</td>\n",
       "      <td>1.000000</td>\n",
       "      <td>-0.012663</td>\n",
       "      <td>-0.004182</td>\n",
       "      <td>0.001244</td>\n",
       "      <td>0.001992</td>\n",
       "      <td>0.005470</td>\n",
       "      <td>0.011145</td>\n",
       "      <td>0.010436</td>\n",
       "    </tr>\n",
       "    <tr>\n",
       "      <th>Marital_Status</th>\n",
       "      <td>-0.010379</td>\n",
       "      <td>0.312079</td>\n",
       "      <td>0.024691</td>\n",
       "      <td>-0.012663</td>\n",
       "      <td>1.000000</td>\n",
       "      <td>0.020546</td>\n",
       "      <td>0.001146</td>\n",
       "      <td>-0.004363</td>\n",
       "      <td>0.000129</td>\n",
       "      <td>-0.002373</td>\n",
       "      <td>0.034270</td>\n",
       "    </tr>\n",
       "    <tr>\n",
       "      <th>Product_Category_1</th>\n",
       "      <td>-0.045661</td>\n",
       "      <td>0.061951</td>\n",
       "      <td>-0.008114</td>\n",
       "      <td>-0.004182</td>\n",
       "      <td>0.020546</td>\n",
       "      <td>1.000000</td>\n",
       "      <td>-0.040730</td>\n",
       "      <td>-0.389048</td>\n",
       "      <td>-0.314125</td>\n",
       "      <td>0.001109</td>\n",
       "      <td>-0.023137</td>\n",
       "    </tr>\n",
       "    <tr>\n",
       "      <th>Product_Category_2</th>\n",
       "      <td>-0.001580</td>\n",
       "      <td>0.019723</td>\n",
       "      <td>0.006792</td>\n",
       "      <td>0.001244</td>\n",
       "      <td>0.001146</td>\n",
       "      <td>-0.040730</td>\n",
       "      <td>1.000000</td>\n",
       "      <td>0.090284</td>\n",
       "      <td>0.038395</td>\n",
       "      <td>-0.006856</td>\n",
       "      <td>0.019709</td>\n",
       "    </tr>\n",
       "    <tr>\n",
       "      <th>Product_Category_3</th>\n",
       "      <td>0.035813</td>\n",
       "      <td>-0.006922</td>\n",
       "      <td>0.011941</td>\n",
       "      <td>0.001992</td>\n",
       "      <td>-0.004363</td>\n",
       "      <td>-0.389048</td>\n",
       "      <td>0.090284</td>\n",
       "      <td>1.000000</td>\n",
       "      <td>0.284120</td>\n",
       "      <td>-0.007634</td>\n",
       "      <td>0.035090</td>\n",
       "    </tr>\n",
       "    <tr>\n",
       "      <th>Purchase</th>\n",
       "      <td>0.060086</td>\n",
       "      <td>0.017717</td>\n",
       "      <td>0.021104</td>\n",
       "      <td>0.005470</td>\n",
       "      <td>0.000129</td>\n",
       "      <td>-0.314125</td>\n",
       "      <td>0.038395</td>\n",
       "      <td>0.284120</td>\n",
       "      <td>1.000000</td>\n",
       "      <td>-0.023161</td>\n",
       "      <td>0.068647</td>\n",
       "    </tr>\n",
       "    <tr>\n",
       "      <th>City_Category_B</th>\n",
       "      <td>-0.006968</td>\n",
       "      <td>-0.017499</td>\n",
       "      <td>-0.014317</td>\n",
       "      <td>0.011145</td>\n",
       "      <td>-0.002373</td>\n",
       "      <td>0.001109</td>\n",
       "      <td>-0.006856</td>\n",
       "      <td>-0.007634</td>\n",
       "      <td>-0.023161</td>\n",
       "      <td>1.000000</td>\n",
       "      <td>-0.571428</td>\n",
       "    </tr>\n",
       "    <tr>\n",
       "      <th>City_Category_C</th>\n",
       "      <td>0.000329</td>\n",
       "      <td>0.109821</td>\n",
       "      <td>0.035396</td>\n",
       "      <td>0.010436</td>\n",
       "      <td>0.034270</td>\n",
       "      <td>-0.023137</td>\n",
       "      <td>0.019709</td>\n",
       "      <td>0.035090</td>\n",
       "      <td>0.068647</td>\n",
       "      <td>-0.571428</td>\n",
       "      <td>1.000000</td>\n",
       "    </tr>\n",
       "  </tbody>\n",
       "</table>\n",
       "</div>"
      ],
      "text/plain": [
       "                              Gender       Age  Occupation  \\\n",
       "Gender                      1.000000 -0.004413    0.117294   \n",
       "Age                        -0.004413  1.000000    0.091898   \n",
       "Occupation                  0.117294  0.091898    1.000000   \n",
       "Stay_In_Current_City_Years  0.015392 -0.004754    0.031203   \n",
       "Marital_Status             -0.010379  0.312079    0.024691   \n",
       "Product_Category_1         -0.045661  0.061951   -0.008114   \n",
       "Product_Category_2         -0.001580  0.019723    0.006792   \n",
       "Product_Category_3          0.035813 -0.006922    0.011941   \n",
       "Purchase                    0.060086  0.017717    0.021104   \n",
       "City_Category_B            -0.006968 -0.017499   -0.014317   \n",
       "City_Category_C             0.000329  0.109821    0.035396   \n",
       "\n",
       "                            Stay_In_Current_City_Years  Marital_Status  \\\n",
       "Gender                                        0.015392       -0.010379   \n",
       "Age                                          -0.004754        0.312079   \n",
       "Occupation                                    0.031203        0.024691   \n",
       "Stay_In_Current_City_Years                    1.000000       -0.012663   \n",
       "Marital_Status                               -0.012663        1.000000   \n",
       "Product_Category_1                           -0.004182        0.020546   \n",
       "Product_Category_2                            0.001244        0.001146   \n",
       "Product_Category_3                            0.001992       -0.004363   \n",
       "Purchase                                      0.005470        0.000129   \n",
       "City_Category_B                               0.011145       -0.002373   \n",
       "City_Category_C                               0.010436        0.034270   \n",
       "\n",
       "                            Product_Category_1  Product_Category_2  \\\n",
       "Gender                               -0.045661           -0.001580   \n",
       "Age                                   0.061951            0.019723   \n",
       "Occupation                           -0.008114            0.006792   \n",
       "Stay_In_Current_City_Years           -0.004182            0.001244   \n",
       "Marital_Status                        0.020546            0.001146   \n",
       "Product_Category_1                    1.000000           -0.040730   \n",
       "Product_Category_2                   -0.040730            1.000000   \n",
       "Product_Category_3                   -0.389048            0.090284   \n",
       "Purchase                             -0.314125            0.038395   \n",
       "City_Category_B                       0.001109           -0.006856   \n",
       "City_Category_C                      -0.023137            0.019709   \n",
       "\n",
       "                            Product_Category_3  Purchase  City_Category_B  \\\n",
       "Gender                                0.035813  0.060086        -0.006968   \n",
       "Age                                  -0.006922  0.017717        -0.017499   \n",
       "Occupation                            0.011941  0.021104        -0.014317   \n",
       "Stay_In_Current_City_Years            0.001992  0.005470         0.011145   \n",
       "Marital_Status                       -0.004363  0.000129        -0.002373   \n",
       "Product_Category_1                   -0.389048 -0.314125         0.001109   \n",
       "Product_Category_2                    0.090284  0.038395        -0.006856   \n",
       "Product_Category_3                    1.000000  0.284120        -0.007634   \n",
       "Purchase                              0.284120  1.000000        -0.023161   \n",
       "City_Category_B                      -0.007634 -0.023161         1.000000   \n",
       "City_Category_C                       0.035090  0.068647        -0.571428   \n",
       "\n",
       "                            City_Category_C  \n",
       "Gender                             0.000329  \n",
       "Age                                0.109821  \n",
       "Occupation                         0.035396  \n",
       "Stay_In_Current_City_Years         0.010436  \n",
       "Marital_Status                     0.034270  \n",
       "Product_Category_1                -0.023137  \n",
       "Product_Category_2                 0.019709  \n",
       "Product_Category_3                 0.035090  \n",
       "Purchase                           0.068647  \n",
       "City_Category_B                   -0.571428  \n",
       "City_Category_C                    1.000000  "
      ]
     },
     "execution_count": 20,
     "metadata": {},
     "output_type": "execute_result"
    }
   ],
   "source": [
    "data.corr()"
   ]
  },
  {
   "cell_type": "markdown",
   "id": "69e3137f-73da-4770-80ef-e21656ecbe66",
   "metadata": {},
   "source": [
    "# Исследование данных"
   ]
  },
  {
   "cell_type": "markdown",
   "id": "4a8eb60c-0d4c-4cc7-806c-e91780cd0d9b",
   "metadata": {},
   "source": [
    "1. Как влияет пол на целевую переменную Purchase? Постройте диаграмму.\n",
    "\n",
    "2. Как влияет возраст на целевую переменную Purchase? Постройте диаграмму.\n",
    "\n",
    "3. Как влияет City_Category на целевую переменную Purchase? Постройте диаграмму для каждой закодированной категории."
   ]
  },
  {
   "cell_type": "code",
   "execution_count": 21,
   "id": "0baa1204-3cb1-48a3-84b3-d4d2db4d1f9a",
   "metadata": {},
   "outputs": [],
   "source": [
    "import seaborn as sns"
   ]
  },
  {
   "cell_type": "code",
   "execution_count": 22,
   "id": "cd9d4456-d6b7-41e0-8be6-4ee790522b7b",
   "metadata": {},
   "outputs": [
    {
     "data": {
      "image/png": "[encoded data removed]",
      "text/plain": [
       "<Figure size 432x288 with 1 Axes>"
      ]
     },
     "metadata": {
      "needs_background": "light"
     },
     "output_type": "display_data"
    }
   ],
   "source": [
    "sns.barplot(y='Purchase', x='Gender', data=data)\n",
    "plt.show()"
   ]
  },
  {
   "cell_type": "code",
   "execution_count": 23,
   "id": "cac9ec2d-bc21-4157-b287-8cede9e32f13",
   "metadata": {},
   "outputs": [
    {
     "data": {
      "image/png": "[encoded data removed]",
      "text/plain": [
       "<Figure size 432x288 with 1 Axes>"
      ]
     },
     "metadata": {
      "needs_background": "light"
     },
     "output_type": "display_data"
    }
   ],
   "source": [
    "sns.barplot(y='Purchase', x='Age', data=data)\n",
    "plt.show()"
   ]
  },
  {
   "cell_type": "code",
   "execution_count": 24,
   "id": "d36dc675-2cba-4f3b-8f58-1888d4ff66e7",
   "metadata": {},
   "outputs": [
    {
     "data": {
      "image/png": "[encoded data removed]",
      "text/plain": [
       "<Figure size 432x288 with 1 Axes>"
      ]
     },
     "metadata": {
      "needs_background": "light"
     },
     "output_type": "display_data"
    }
   ],
   "source": [
    "sns.barplot(y='Purchase', x='City_Category_B', data=data)\n",
    "plt.show()"
   ]
  },
  {
   "cell_type": "code",
   "execution_count": 25,
   "id": "9d7830d3-7a67-4c30-a9a7-a2db18b1469a",
   "metadata": {},
   "outputs": [
    {
     "data": {
      "image/png": "[encoded data removed]",
      "text/plain": [
       "<Figure size 432x288 with 1 Axes>"
      ]
     },
     "metadata": {
      "needs_background": "light"
     },
     "output_type": "display_data"
    }
   ],
   "source": [
    "sns.barplot(y='Purchase', x='City_Category_C', data=data)\n",
    "plt.show()"
   ]
  },
  {
   "cell_type": "markdown",
   "id": "f4b91e9e-31b9-407b-94cc-f9fc52146c6b",
   "metadata": {},
   "source": [
    "Нарисуйте матрицу корреляций признаков."
   ]
  },
  {
   "cell_type": "code",
   "execution_count": 26,
   "id": "3ca0af8b-d1ac-4acf-a020-833931f99009",
   "metadata": {},
   "outputs": [
    {
     "data": {
      "text/plain": [
       "<AxesSubplot:>"
      ]
     },
     "execution_count": 26,
     "metadata": {},
     "output_type": "execute_result"
    },
    {
     "data": {
      "image/png": "[encoded data removed]",
      "text/plain": [
       "<Figure size 864x648 with 2 Axes>"
      ]
     },
     "metadata": {
      "needs_background": "light"
     },
     "output_type": "display_data"
    }
   ],
   "source": [
    "plt.figure(figsize=(12,9))\n",
    "\n",
    "corr = data.corr()\n",
    "\n",
    "sns.heatmap(corr,annot=True,linewidths=.5,fmt= '.2f',\\\n",
    "            mask=np.zeros_like(corr, dtype=bool), \\\n",
    "            cmap=sns.diverging_palette(100,200,as_cmap=True), square=True)"
   ]
  },
  {
   "cell_type": "markdown",
   "id": "e3f0178e-9a07-465c-96c2-f963909eb24d",
   "metadata": {},
   "source": [
    "# Построение модели"
   ]
  },
  {
   "cell_type": "markdown",
   "id": "de7d3d46-4c7e-47d3-9d97-e728345f6e8a",
   "metadata": {},
   "source": [
    "Применим к нашим данным масштабирование: для того, чтобы модель лучше училась, будет неплохо привести все признаки к одному масштабу, а то коэффициенты скакать могут. "
   ]
  },
  {
   "cell_type": "code",
   "execution_count": 46,
   "id": "088b4f6a-7549-4cd2-8836-2bc49551c8a0",
   "metadata": {},
   "outputs": [
    {
     "name": "stdout",
     "output_type": "stream",
     "text": [
      "[ 8657.53526846 10521.97188726  6659.56306894 10800.10602988\n",
      "  9649.69942955  9311.58028534 12384.3484409   8019.38432135\n",
      " 11459.08274639  8895.99609546]\n"
     ]
    }
   ],
   "source": [
    "X = data.copy().drop('Purchase', axis=1)\n",
    "\n",
    "y = data['Purchase']\n",
    "\n",
    "Xtrain, Xtest, ytrain, ytest = train_test_split(X, y, test_size=0.2, random_state=111)\n",
    "\n",
    "scaler = StandardScaler().fit(Xtrain) # вычисляет mean & sigma\n",
    "Xtrain = scaler.transform(Xtrain)\n",
    "Xtest = scaler.transform(Xtest)\n",
    "\n",
    "regressor = LinearRegression()\n",
    "regressor.fit(Xtrain, ytrain)\n",
    "\n",
    "ypred_train = regressor.predict(Xtrain)\n",
    "ypred_test = regressor.predict(Xtest)\n",
    "print(ypred_train[:10])"
   ]
  },
  {
   "cell_type": "code",
   "execution_count": 47,
   "id": "9bc92fba-d8b5-4909-bfce-0a408188b2c3",
   "metadata": {},
   "outputs": [
    {
     "data": {
      "text/plain": [
       "(0.13583618299501476, 0.13494723413739185)"
      ]
     },
     "execution_count": 47,
     "metadata": {},
     "output_type": "execute_result"
    }
   ],
   "source": [
    "r2_score(ytrain, ypred_train), r2_score(ytest, ypred_test)"
   ]
  },
  {
   "cell_type": "code",
   "execution_count": 48,
   "id": "d8c0a809-22c7-4386-8028-23b67996bb2a",
   "metadata": {},
   "outputs": [
    {
     "data": {
      "text/plain": [
       "21424817.17288901"
      ]
     },
     "execution_count": 48,
     "metadata": {},
     "output_type": "execute_result"
    }
   ],
   "source": [
    "mean_squared_error(ytrain, ypred_train)"
   ]
  },
  {
   "cell_type": "code",
   "execution_count": 49,
   "id": "b13953f5-a9b8-4d94-a7c6-0f00a3218071",
   "metadata": {},
   "outputs": [
    {
     "data": {
      "text/html": [
       "<div>\n",
       "<style scoped>\n",
       "    .dataframe tbody tr th:only-of-type {\n",
       "        vertical-align: middle;\n",
       "    }\n",
       "\n",
       "    .dataframe tbody tr th {\n",
       "        vertical-align: top;\n",
       "    }\n",
       "\n",
       "    .dataframe thead th {\n",
       "        text-align: right;\n",
       "    }\n",
       "</style>\n",
       "<table border=\"1\" class=\"dataframe\">\n",
       "  <thead>\n",
       "    <tr style=\"text-align: right;\">\n",
       "      <th></th>\n",
       "      <th>0</th>\n",
       "      <th>0</th>\n",
       "    </tr>\n",
       "  </thead>\n",
       "  <tbody>\n",
       "    <tr>\n",
       "      <th>0</th>\n",
       "      <td>Gender</td>\n",
       "      <td>209.875978</td>\n",
       "    </tr>\n",
       "    <tr>\n",
       "      <th>1</th>\n",
       "      <td>Age</td>\n",
       "      <td>134.821232</td>\n",
       "    </tr>\n",
       "    <tr>\n",
       "      <th>2</th>\n",
       "      <td>Occupation</td>\n",
       "      <td>38.842427</td>\n",
       "    </tr>\n",
       "    <tr>\n",
       "      <th>3</th>\n",
       "      <td>Stay_In_Current_City_Years</td>\n",
       "      <td>13.967254</td>\n",
       "    </tr>\n",
       "    <tr>\n",
       "      <th>4</th>\n",
       "      <td>Marital_Status</td>\n",
       "      <td>-21.325216</td>\n",
       "    </tr>\n",
       "    <tr>\n",
       "      <th>5</th>\n",
       "      <td>Product_Category_1</td>\n",
       "      <td>-1194.108936</td>\n",
       "    </tr>\n",
       "    <tr>\n",
       "      <th>6</th>\n",
       "      <td>Product_Category_2</td>\n",
       "      <td>52.325436</td>\n",
       "    </tr>\n",
       "    <tr>\n",
       "      <th>7</th>\n",
       "      <td>Product_Category_3</td>\n",
       "      <td>926.052241</td>\n",
       "    </tr>\n",
       "    <tr>\n",
       "      <th>8</th>\n",
       "      <td>City_Category_B</td>\n",
       "      <td>70.943952</td>\n",
       "    </tr>\n",
       "    <tr>\n",
       "      <th>9</th>\n",
       "      <td>City_Category_C</td>\n",
       "      <td>311.443260</td>\n",
       "    </tr>\n",
       "  </tbody>\n",
       "</table>\n",
       "</div>"
      ],
      "text/plain": [
       "                            0            0\n",
       "0                      Gender   209.875978\n",
       "1                         Age   134.821232\n",
       "2                  Occupation    38.842427\n",
       "3  Stay_In_Current_City_Years    13.967254\n",
       "4              Marital_Status   -21.325216\n",
       "5          Product_Category_1 -1194.108936\n",
       "6          Product_Category_2    52.325436\n",
       "7          Product_Category_3   926.052241\n",
       "8             City_Category_B    70.943952\n",
       "9             City_Category_C   311.443260"
      ]
     },
     "execution_count": 49,
     "metadata": {},
     "output_type": "execute_result"
    }
   ],
   "source": [
    "coefficients = pd.concat([pd.DataFrame(X.columns),pd.DataFrame(np.transpose(regressor.coef_))], axis = 1)\n",
    "coefficients"
   ]
  },
  {
   "cell_type": "markdown",
   "id": "3c13269b-4653-4eaf-9736-69efcd1b1e92",
   "metadata": {},
   "source": [
    "Добавим L1 регуляризацию."
   ]
  },
  {
   "cell_type": "code",
   "execution_count": 50,
   "id": "6d5bba15-024d-46bb-a1bf-193da68d7081",
   "metadata": {},
   "outputs": [
    {
     "name": "stdout",
     "output_type": "stream",
     "text": [
      "Scores: 0.13490487370793947 21525738.529546566\n",
      "[  201.33826482   122.56442987    31.48345366     4.94525355\n",
      "    -6.98313269 -1187.07216283    43.6808366    920.52678005\n",
      "    48.54348746   290.35323145] \n",
      "\n"
     ]
    }
   ],
   "source": [
    "regressor2 = Lasso(alpha=10)\n",
    "regressor2.fit(Xtrain, ytrain)\n",
    "\n",
    "ypred2 = regressor2.predict(Xtest)\n",
    "\n",
    "print('Scores:', r2_score(ytest,ypred2), mean_squared_error(ytest,ypred2))\n",
    "print(regressor2.coef_,'\\n')"
   ]
  },
  {
   "cell_type": "markdown",
   "id": "59edf10d-56d5-410c-91e3-04f6e793f9b5",
   "metadata": {},
   "source": [
    "Посмотрим, что происходит при разных значениях параметра регуляризации $\\alpha$"
   ]
  },
  {
   "cell_type": "code",
   "execution_count": 51,
   "id": "29ff8315-17c2-4adf-9483-e47e75fb6a8f",
   "metadata": {},
   "outputs": [
    {
     "name": "stdout",
     "output_type": "stream",
     "text": [
      "alpha=0.1\n",
      "Scores: 0.13494727374222637 21524683.510249883\n",
      "[  209.79057742   134.69878377    38.76884216    13.87708511\n",
      "   -21.18178276 -1194.03856657    52.23899218   925.9970247\n",
      "    70.71900358   311.23180496] \n",
      "\n",
      "alpha=25.1\n",
      "Scores: 0.1347137637397442 21530493.825329345\n",
      "[  188.22565368   108.72270497    20.09589568     0.\n",
      "    -0.         -1176.46511481    30.54216468   912.15059708\n",
      "    14.58518785   258.3675509 ] \n",
      "\n",
      "alpha=50.1\n",
      "Scores: 0.13429106221630294 21541011.700408168\n",
      "[ 1.66628597e+02  8.75700742e+01  8.55532291e-01  0.00000000e+00\n",
      " -0.00000000e+00 -1.15841517e+03  8.60093993e+00  8.97917620e+02\n",
      "  0.00000000e+00  2.29397497e+02] \n",
      "\n",
      "alpha=75.1\n",
      "Scores: 0.1337612278520044 21554195.309520315\n",
      "[  143.05695947    63.81635889     0.             0.\n",
      "     0.         -1139.95214537     0.           882.31287341\n",
      "     0.           208.18754192] \n",
      "\n"
     ]
    }
   ],
   "source": [
    "for a in np.arange(0.1, 100.1, 25):\n",
    "    regressor2 = Lasso(alpha=a)\n",
    "    regressor2.fit(Xtrain, ytrain)\n",
    "\n",
    "    ypred2 = regressor2.predict(Xtest)\n",
    "\n",
    "    print('alpha={}'.format(a))\n",
    "    print('Scores:', r2_score(ytest,ypred2), mean_squared_error(ytest,ypred2))\n",
    "    print(regressor2.coef_,'\\n')"
   ]
  },
  {
   "cell_type": "markdown",
   "id": "5e34c3c3-46f1-4bec-baec-10f21952b5f7",
   "metadata": {},
   "source": [
    "**Видим, что L1-регуляризация зануляет некоторые веса и таким образом производит отбор признаков.**"
   ]
  },
  {
   "cell_type": "markdown",
   "id": "5c41c600-bef8-4af2-a5ff-e80f1fe8805f",
   "metadata": {},
   "source": [
    "Подберем оптимальное значение параметра регуляризации по кросс-валидации"
   ]
  },
  {
   "cell_type": "code",
   "execution_count": 52,
   "id": "cec0458a-30d1-4be8-9f62-bd5de281581c",
   "metadata": {},
   "outputs": [
    {
     "data": {
      "text/plain": [
       "LassoCV(alphas=array([ 0.1       ,  0.14974874,  0.19949749,  0.24924623,  0.29899497,\n",
       "        0.34874372,  0.39849246,  0.44824121,  0.49798995,  0.54773869,\n",
       "        0.59748744,  0.64723618,  0.69698492,  0.74673367,  0.79648241,\n",
       "        0.84623116,  0.8959799 ,  0.94572864,  0.99547739,  1.04522613,\n",
       "        1.09497487,  1.14472362,  1.19447236,  1.24422111,  1.29396985,\n",
       "        1.34371859,  1.39346734,  1.44321608,  1.49296482,  1.54271357,\n",
       "        1.5924...\n",
       "        8.30854271,  8.35829146,  8.4080402 ,  8.45778894,  8.50753769,\n",
       "        8.55728643,  8.60703518,  8.65678392,  8.70653266,  8.75628141,\n",
       "        8.80603015,  8.85577889,  8.90552764,  8.95527638,  9.00502513,\n",
       "        9.05477387,  9.10452261,  9.15427136,  9.2040201 ,  9.25376884,\n",
       "        9.30351759,  9.35326633,  9.40301508,  9.45276382,  9.50251256,\n",
       "        9.55226131,  9.60201005,  9.65175879,  9.70150754,  9.75125628,\n",
       "        9.80100503,  9.85075377,  9.90050251,  9.95025126, 10.        ]),\n",
       "        cv=3, random_state=17)"
      ]
     },
     "execution_count": 52,
     "metadata": {},
     "output_type": "execute_result"
    }
   ],
   "source": [
    "from sklearn.linear_model import LassoCV\n",
    "\n",
    "n_alphas = 200\n",
    "alphas = np.linspace(0.1, 10, n_alphas)\n",
    "\n",
    "lasso_cv = LassoCV(alphas=alphas, \n",
    "                   cv=3, random_state=17)\n",
    "lasso_cv.fit(X, y)"
   ]
  },
  {
   "cell_type": "code",
   "execution_count": 53,
   "id": "6e40f234-3d1f-4d7d-ba86-2301be6f3d8c",
   "metadata": {},
   "outputs": [
    {
     "data": {
      "text/plain": [
       "array([ 482.16976974,  103.49903741,    5.69793977,    9.52760257,\n",
       "        -47.30585129, -317.88884738,    8.13663821,  148.34973621,\n",
       "        145.94388277,  660.99699949])"
      ]
     },
     "execution_count": 53,
     "metadata": {},
     "output_type": "execute_result"
    }
   ],
   "source": [
    "lasso_cv.coef_"
   ]
  },
  {
   "cell_type": "code",
   "execution_count": 54,
   "id": "13e4b585-7ac1-4580-a77f-25c2cee6964d",
   "metadata": {},
   "outputs": [
    {
     "data": {
      "text/plain": [
       "0.1"
      ]
     },
     "execution_count": 54,
     "metadata": {},
     "output_type": "execute_result"
    }
   ],
   "source": [
    "lasso_cv.alpha_"
   ]
  },
  {
   "cell_type": "markdown",
   "id": "1994bd0b-4fb2-4526-b228-f2be44b4fa3a",
   "metadata": {},
   "source": [
    "Обучим модель с найденным параметром регуляризации $\\alpha$"
   ]
  },
  {
   "cell_type": "code",
   "execution_count": 55,
   "id": "6bd32da5-a791-4a7d-86b3-e0f90613df92",
   "metadata": {},
   "outputs": [
    {
     "name": "stdout",
     "output_type": "stream",
     "text": [
      "Scores: 0.13583617829530026 0.13494727374222637\n"
     ]
    }
   ],
   "source": [
    "regressor2 = Lasso(alpha=lasso_cv.alpha_)\n",
    "\n",
    "regressor2.fit(Xtrain, ytrain)\n",
    "\n",
    "ypred2_train = regressor2.predict(Xtrain)\n",
    "ypred2_test = regressor2.predict(Xtest)\n",
    "\n",
    "print('Scores:', r2_score(ytrain,ypred2_train), r2_score(ytest,ypred2_test))"
   ]
  },
  {
   "cell_type": "markdown",
   "id": "6b13c811-d984-4c97-9265-de2d7ce3f224",
   "metadata": {},
   "source": [
    "Добавим L2 регуляризацию."
   ]
  },
  {
   "cell_type": "code",
   "execution_count": 56,
   "id": "73d3b5db-1758-4ea6-9a99-0aa93a29212a",
   "metadata": {},
   "outputs": [
    {
     "name": "stdout",
     "output_type": "stream",
     "text": [
      "alpha=-10.0\n",
      "Scores: 0.13494723761220773 21524684.40925545\n",
      "[  209.87944783   134.82546587    38.84199631    13.96728677\n",
      "   -21.32682107 -1194.13179636    52.32433086   926.06457379\n",
      "    70.95172149   311.45361575]\n",
      "alpha=-7.5\n",
      "Scores: 0.1349472367511647 21524684.43068036\n",
      "[  209.87858039   134.82440742    38.84210403    13.96727861\n",
      "   -21.32641984 -1194.12608113    52.32460719   926.06149056\n",
      "    70.94977898   311.45102683]\n",
      "alpha=-5.0\n",
      "Scores: 0.13494723588501456 21524684.45223235\n",
      "[  209.87771296   134.82334899    38.84221175    13.96727046\n",
      "   -21.32601861 -1194.12036596    52.32488352   926.05840735\n",
      "    70.94783653   311.44843797]\n",
      "alpha=-2.5\n",
      "Scores: 0.1349472350137566 21524684.473911438\n",
      "[  209.87684554   134.82229057    38.84231947    13.9672623\n",
      "   -21.32561739 -1194.11465086    52.32515984   926.05532415\n",
      "    70.94589414   311.44584918]\n",
      "alpha=0.0\n",
      "Scores: 0.1349472341373914 21524684.495717604\n",
      "[  209.87597813   134.82123217    38.84242718    13.96725414\n",
      "   -21.32521618 -1194.10893582    52.32543615   926.05224096\n",
      "    70.9439518    311.44326044]\n",
      "alpha=2.5\n",
      "Scores: 0.13494723325591884 21524684.517650854\n",
      "[  209.87511073   134.82017378    38.84253488    13.96724597\n",
      "   -21.32481498 -1194.10322083    52.32571246   926.04915778\n",
      "    70.94200952   311.44067176]\n",
      "alpha=5.0\n",
      "Scores: 0.13494723236933936 21524684.539711177\n",
      "[  209.87424333   134.81911541    38.84264258    13.96723781\n",
      "   -21.32441378 -1194.09750591    52.32598876   926.04607461\n",
      "    70.9400673    311.43808315]\n",
      "alpha=7.5\n",
      "Scores: 0.1349472314776532 21524684.561898567\n",
      "[  209.87337594   134.81805704    38.84275028    13.96722964\n",
      "   -21.3240126  -1194.09179106    52.32626504   926.04299145\n",
      "    70.93812514   311.43549459]\n",
      "alpha=10.0\n",
      "Scores: 0.13494723058086 21524684.584213033\n",
      "[  209.87250856   134.8169987     38.84285797    13.96722148\n",
      "   -21.32361143 -1194.08607626    52.32654133   926.0399083\n",
      "    70.93618303   311.43290609]\n"
     ]
    }
   ],
   "source": [
    "from sklearn.linear_model import Ridge\n",
    "\n",
    "for a in np.arange(-10,10.1,2.5):\n",
    "    regressor3 = Ridge(alpha=a)\n",
    "    regressor3.fit(Xtrain, ytrain)\n",
    "\n",
    "    ypred3 = regressor3.predict(Xtest)\n",
    "\n",
    "    print('alpha={}'.format(a))\n",
    "    print('Scores:',r2_score(ytest,ypred3), mean_squared_error(ytest,ypred3))\n",
    "    print(regressor3.coef_)"
   ]
  },
  {
   "cell_type": "markdown",
   "id": "848cf516-7df9-4ddb-a22c-cec4cb8e0f24",
   "metadata": {},
   "source": [
    "**Ridge регрессия не зануляет веса (они могут быть очень маленькими, но ненулевыми).**"
   ]
  },
  {
   "cell_type": "markdown",
   "id": "69b7d9a7-738d-4770-8cbc-7a15acdad037",
   "metadata": {},
   "source": [
    "Теперь подберем оптимальное a по кросс-валидации."
   ]
  },
  {
   "cell_type": "code",
   "execution_count": 57,
   "id": "956af7db-0c96-458a-8620-1ee71b7455b9",
   "metadata": {},
   "outputs": [
    {
     "data": {
      "text/plain": [
       "RidgeCV(alphas=array([1.00000000e-02, 1.09698580e-02, 1.20337784e-02, 1.32008840e-02,\n",
       "       1.44811823e-02, 1.58856513e-02, 1.74263339e-02, 1.91164408e-02,\n",
       "       2.09704640e-02, 2.30043012e-02, 2.52353917e-02, 2.76828663e-02,\n",
       "       3.03677112e-02, 3.33129479e-02, 3.65438307e-02, 4.00880633e-02,\n",
       "       4.39760361e-02, 4.82410870e-02, 5.29197874e-02, 5.80522552e-02,\n",
       "       6.36824994e-02, 6.98587975e-0...\n",
       "       1.18953407e+05, 1.30490198e+05, 1.43145894e+05, 1.57029012e+05,\n",
       "       1.72258597e+05, 1.88965234e+05, 2.07292178e+05, 2.27396575e+05,\n",
       "       2.49450814e+05, 2.73644000e+05, 3.00183581e+05, 3.29297126e+05,\n",
       "       3.61234270e+05, 3.96268864e+05, 4.34701316e+05, 4.76861170e+05,\n",
       "       5.23109931e+05, 5.73844165e+05, 6.29498899e+05, 6.90551352e+05,\n",
       "       7.57525026e+05, 8.30994195e+05, 9.11588830e+05, 1.00000000e+06]),\n",
       "        cv=3, scoring='neg_mean_squared_error')"
      ]
     },
     "execution_count": 57,
     "metadata": {},
     "output_type": "execute_result"
    }
   ],
   "source": [
    "from sklearn.linear_model import RidgeCV\n",
    "\n",
    "n_alphas = 200\n",
    "ridge_alphas = np.logspace(-2, 6, n_alphas)\n",
    "\n",
    "ridge_cv = RidgeCV(alphas=ridge_alphas, \n",
    "                   scoring='neg_mean_squared_error',\n",
    "                   cv=3)\n",
    "ridge_cv.fit(X, y)"
   ]
  },
  {
   "cell_type": "code",
   "execution_count": 58,
   "id": "6650675a-05e1-45e0-aaaa-f2e3328a7899",
   "metadata": {},
   "outputs": [
    {
     "data": {
      "text/plain": [
       "104.73708979594487"
      ]
     },
     "execution_count": 58,
     "metadata": {},
     "output_type": "execute_result"
    }
   ],
   "source": [
    "ridge_cv.alpha_"
   ]
  },
  {
   "cell_type": "code",
   "execution_count": 60,
   "id": "37c0d215-22e2-468e-bf44-243268bcbd26",
   "metadata": {},
   "outputs": [
    {
     "name": "stdout",
     "output_type": "stream",
     "text": [
      "Scores: 0.13366260153612886 0.13289800756422876\n"
     ]
    }
   ],
   "source": [
    "regressor3 = Lasso(alpha=ridge_cv.alpha_)\n",
    "\n",
    "regressor3.fit(Xtrain, ytrain)\n",
    "\n",
    "ypred3_train = regressor3.predict(Xtrain)\n",
    "ypred3_test = regressor3.predict(Xtest)\n",
    "\n",
    "print('Scores:', r2_score(ytrain,ypred3_train), r2_score(ytest,ypred3_test))"
   ]
  },
  {
   "cell_type": "markdown",
   "id": "a8ed78d8-3448-4b70-8f4d-5e5c22635480",
   "metadata": {},
   "source": [
    "Добавим одновременно и L1, и L2 регуляризацию.\n",
    "\n",
    "У ElasticNet два параметра: alpha и l1_ratio. Используйте ElasticNet со значениями параметров alpha и l1_ratio равными 0.5.\n",
    "\n",
    "https://scikit-learn.org/stable/modules/generated/sklearn.linear_model.ElasticNet.html"
   ]
  },
  {
   "cell_type": "code",
   "execution_count": 61,
   "id": "0eb29d89-80f5-4ca2-bc49-f25460dd7dce",
   "metadata": {},
   "outputs": [
    {
     "name": "stdout",
     "output_type": "stream",
     "text": [
      "Scores: 0.1356611082469401 0.1347654802851732\n"
     ]
    }
   ],
   "source": [
    "from sklearn.linear_model import ElasticNet\n",
    "\n",
    "regressor3 = ElasticNet(alpha=0.1, l1_ratio=0.5)\n",
    "\n",
    "regressor3.fit(Xtrain, ytrain)\n",
    "\n",
    "ypred3_train = regressor3.predict(Xtrain)\n",
    "ypred3_test = regressor3.predict(Xtest)\n",
    "\n",
    "print('Scores:', r2_score(ytrain,ypred3_train), r2_score(ytest,ypred3_test))"
   ]
  },
  {
   "cell_type": "markdown",
   "id": "73e78caa-4cee-452a-b78a-77e81a561de8",
   "metadata": {},
   "source": [
    "### Посмотрим на веса, которые присвоила линейная регрессия признакам (regressor.coef_)."
   ]
  },
  {
   "cell_type": "code",
   "execution_count": 62,
   "id": "2c6a2c71-8071-4b4b-9325-b6ec31aebfb5",
   "metadata": {},
   "outputs": [
    {
     "data": {
      "text/plain": [
       "array([  202.64847369,   126.16651523,    39.56110622,    13.81180241,\n",
       "         -18.13516321, -1147.08507678,    54.38880854,   899.93047594,\n",
       "          56.03287073,   291.08328066])"
      ]
     },
     "execution_count": 62,
     "metadata": {},
     "output_type": "execute_result"
    }
   ],
   "source": [
    "#your code here\n",
    "regressor3.coef_"
   ]
  },
  {
   "cell_type": "markdown",
   "id": "82a67228-bea3-424d-a35e-071bb0159d1f",
   "metadata": {},
   "source": [
    "Можно записать эти веса в таблицу рядом с названиями признаков (для удобства)."
   ]
  },
  {
   "cell_type": "code",
   "execution_count": 63,
   "id": "62a62653-850a-45c6-a595-4a41d33109fb",
   "metadata": {},
   "outputs": [
    {
     "data": {
      "text/html": [
       "<div>\n",
       "<style scoped>\n",
       "    .dataframe tbody tr th:only-of-type {\n",
       "        vertical-align: middle;\n",
       "    }\n",
       "\n",
       "    .dataframe tbody tr th {\n",
       "        vertical-align: top;\n",
       "    }\n",
       "\n",
       "    .dataframe thead th {\n",
       "        text-align: right;\n",
       "    }\n",
       "</style>\n",
       "<table border=\"1\" class=\"dataframe\">\n",
       "  <thead>\n",
       "    <tr style=\"text-align: right;\">\n",
       "      <th></th>\n",
       "      <th>0</th>\n",
       "      <th>0</th>\n",
       "    </tr>\n",
       "  </thead>\n",
       "  <tbody>\n",
       "    <tr>\n",
       "      <th>0</th>\n",
       "      <td>Gender</td>\n",
       "      <td>202.648474</td>\n",
       "    </tr>\n",
       "    <tr>\n",
       "      <th>1</th>\n",
       "      <td>Age</td>\n",
       "      <td>126.166515</td>\n",
       "    </tr>\n",
       "    <tr>\n",
       "      <th>2</th>\n",
       "      <td>Occupation</td>\n",
       "      <td>39.561106</td>\n",
       "    </tr>\n",
       "    <tr>\n",
       "      <th>3</th>\n",
       "      <td>Stay_In_Current_City_Years</td>\n",
       "      <td>13.811802</td>\n",
       "    </tr>\n",
       "    <tr>\n",
       "      <th>4</th>\n",
       "      <td>Marital_Status</td>\n",
       "      <td>-18.135163</td>\n",
       "    </tr>\n",
       "    <tr>\n",
       "      <th>5</th>\n",
       "      <td>Product_Category_1</td>\n",
       "      <td>-1147.085077</td>\n",
       "    </tr>\n",
       "    <tr>\n",
       "      <th>6</th>\n",
       "      <td>Product_Category_2</td>\n",
       "      <td>54.388809</td>\n",
       "    </tr>\n",
       "    <tr>\n",
       "      <th>7</th>\n",
       "      <td>Product_Category_3</td>\n",
       "      <td>899.930476</td>\n",
       "    </tr>\n",
       "    <tr>\n",
       "      <th>8</th>\n",
       "      <td>City_Category_B</td>\n",
       "      <td>56.032871</td>\n",
       "    </tr>\n",
       "    <tr>\n",
       "      <th>9</th>\n",
       "      <td>City_Category_C</td>\n",
       "      <td>291.083281</td>\n",
       "    </tr>\n",
       "  </tbody>\n",
       "</table>\n",
       "</div>"
      ],
      "text/plain": [
       "                            0            0\n",
       "0                      Gender   202.648474\n",
       "1                         Age   126.166515\n",
       "2                  Occupation    39.561106\n",
       "3  Stay_In_Current_City_Years    13.811802\n",
       "4              Marital_Status   -18.135163\n",
       "5          Product_Category_1 -1147.085077\n",
       "6          Product_Category_2    54.388809\n",
       "7          Product_Category_3   899.930476\n",
       "8             City_Category_B    56.032871\n",
       "9             City_Category_C   291.083281"
      ]
     },
     "execution_count": 63,
     "metadata": {},
     "output_type": "execute_result"
    }
   ],
   "source": [
    "coefficients = pd.concat([pd.DataFrame(X.columns),pd.DataFrame(np.transpose(regressor3.coef_))], axis = 1)\n",
    "coefficients"
   ]
  },
  {
   "cell_type": "code",
   "execution_count": 66,
   "id": "20ce9e4a-061a-427d-8257-fb27b16d720c",
   "metadata": {},
   "outputs": [
    {
     "name": "stdout",
     "output_type": "stream",
     "text": [
      "0.13559483384449145\n"
     ]
    }
   ],
   "source": [
    "from sklearn.model_selection import cross_val_score\n",
    "\n",
    "print(cross_val_score(LinearRegression(), X, y, cv=3, scoring='r2').mean())"
   ]
  },
  {
   "cell_type": "markdown",
   "id": "4ae327ba-1563-4e1c-a8fa-bc6599304081",
   "metadata": {},
   "source": [
    "# Задание 2\n",
    "\n",
    "Поработайте с датасетом affairs. Предскажите значение в колонке affairs по остальным факторам.\n",
    "\n",
    "1. Сначала проведите разведочный анализ, а именно, исследуйте зависимость таргета от каждого фактора (или пары факторов).\n",
    "\n",
    "2. Обучите линейную регрессию, посмотрите на качество на кросс-валидации, затем разбейте данные на train и test,\n",
    "обучите алгоритм на train и сделайте предсказания на train и test, выведите ошибки.\n",
    "\n",
    "3. Посмотрите на матрицу корреляций факторов и целевой переменной. \n",
    "Если есть пары сильно коррелирующих между собой факторов, удалите один из пары.\n",
    "\n",
    "Если есть факторы, слабо коррелирующие с таргетом, удалите их.\n",
    "\n",
    "Заново обучите алгоритм на обновленных данных. Как изменилось его качество?"
   ]
  },
  {
   "cell_type": "code",
   "execution_count": null,
   "id": "ed2e9205-aab1-4a61-8bc0-ae88320e9391",
   "metadata": {},
   "outputs": [],
   "source": [
    "#your code here"
   ]
  },
  {
   "cell_type": "markdown",
   "id": "7f9f427c-8879-4d9c-aa5e-ac2fc2226ec9",
   "metadata": {},
   "source": [
    "# Задание 3. \n",
    "\n",
    "Поработайте с датасетом House Sales in King County. Обратите внимание, что не все признаки в датасете полезны. Целевая переменная - очевидно, price. "
   ]
  },
  {
   "cell_type": "code",
   "execution_count": null,
   "id": "5899c95c-7362-4448-873d-3b3f55997fd3",
   "metadata": {},
   "outputs": [],
   "source": [
    "#your code here"
   ]
  }
 ],
 "metadata": {
  "kernelspec": {
   "display_name": "Python 3 (ipykernel)",
   "language": "python",
   "name": "python3"
  },
  "language_info": {
   "codemirror_mode": {
    "name": "ipython",
    "version": 3
   },
   "file_extension": ".py",
   "mimetype": "text/x-python",
   "name": "python",
   "nbconvert_exporter": "python",
   "pygments_lexer": "ipython3",
   "version": "3.9.12"
  }
 },
 "nbformat": 4,
 "nbformat_minor": 5
}
